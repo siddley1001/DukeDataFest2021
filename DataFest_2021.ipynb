{
  "nbformat": 4,
  "nbformat_minor": 0,
  "metadata": {
    "colab": {
      "name": "DataFest 2021",
      "provenance": [],
      "collapsed_sections": [],
      "mount_file_id": "1YhVIzMtSz0eh9GyEhkVzQBpPsHQd-AEB",
      "authorship_tag": "ABX9TyM3sWm3SHXZwO5EjmdD+IQ1",
      "include_colab_link": true
    },
    "kernelspec": {
      "name": "python3",
      "display_name": "Python 3"
    },
    "language_info": {
      "name": "python"
    }
  },
  "cells": [
    {
      "cell_type": "markdown",
      "metadata": {
        "id": "view-in-github",
        "colab_type": "text"
      },
      "source": [
        "<a href=\"https://colab.research.google.com/github/siddley1001/DukeDataFest2021/blob/main/DataFest_2021.ipynb\" target=\"_parent\"><img src=\"https://colab.research.google.com/assets/colab-badge.svg\" alt=\"Open In Colab\"/></a>"
      ]
    },
    {
      "cell_type": "code",
      "metadata": {
        "id": "m8DgRR6jlvH6"
      },
      "source": [
        "import pandas as pd\n",
        "import numpy as np\n",
        "import matplotlib.pyplot as plt\n",
        "import seaborn as sns\n",
        "\n",
        "import warnings\n",
        "\n",
        "sns.set_style('whitegrid')"
      ],
      "execution_count": null,
      "outputs": []
    },
    {
      "cell_type": "code",
      "metadata": {
        "colab": {
          "base_uri": "https://localhost:8080/",
          "height": 402
        },
        "id": "AUbngtaPqJ7y",
        "outputId": "17222a1d-060f-4bb3-83d7-846751fef906"
      },
      "source": [
        "us_19 = pd.read_csv('/content/drive/MyDrive/DataFest 2021/nmurx_us_19Q1.csv', header=0, date_parser= 'DATE')\n",
        "us_19.head()"
      ],
      "execution_count": null,
      "outputs": [
        {
          "output_type": "execute_result",
          "data": {
            "text/html": [
              "<div>\n",
              "<style scoped>\n",
              "    .dataframe tbody tr th:only-of-type {\n",
              "        vertical-align: middle;\n",
              "    }\n",
              "\n",
              "    .dataframe tbody tr th {\n",
              "        vertical-align: top;\n",
              "    }\n",
              "\n",
              "    .dataframe thead th {\n",
              "        text-align: right;\n",
              "    }\n",
              "</style>\n",
              "<table border=\"1\" class=\"dataframe\">\n",
              "  <thead>\n",
              "    <tr style=\"text-align: right;\">\n",
              "      <th></th>\n",
              "      <th>DATE</th>\n",
              "      <th>STATUS</th>\n",
              "      <th>QLANG</th>\n",
              "      <th>DEM_GENDER</th>\n",
              "      <th>DEM_AGE</th>\n",
              "      <th>DEM_POSTAL</th>\n",
              "      <th>DEM_REGION</th>\n",
              "      <th>DEM_INCOME</th>\n",
              "      <th>DEM_HOME</th>\n",
              "      <th>DEM_GENHEALTH</th>\n",
              "      <th>DEM_LIMIT</th>\n",
              "      <th>TOB_LIFE</th>\n",
              "      <th>ORDER_PAINREL</th>\n",
              "      <th>ORDER_SED</th>\n",
              "      <th>ORDER_STIM</th>\n",
              "      <th>ORDER_THC</th>\n",
              "      <th>ORDER_PAINREL_API_BHYD</th>\n",
              "      <th>ORDER_PAINREL_API_BUP</th>\n",
              "      <th>ORDER_PAINREL_API_COD</th>\n",
              "      <th>ORDER_PAINREL_API_DIHY</th>\n",
              "      <th>ORDER_PAINREL_API_ELU</th>\n",
              "      <th>ORDER_PAINREL_API_FENT</th>\n",
              "      <th>ORDER_PAINREL_API_GAB</th>\n",
              "      <th>ORDER_PAINREL_API_HYD</th>\n",
              "      <th>ORDER_PAINREL_API_HYDM</th>\n",
              "      <th>ORDER_PAINREL_API_KTM</th>\n",
              "      <th>ORDER_PAINREL_API_METH</th>\n",
              "      <th>ORDER_PAINREL_API_MORPH</th>\n",
              "      <th>ORDER_PAINREL_API_OXY</th>\n",
              "      <th>ORDER_PAINREL_API_OXYM</th>\n",
              "      <th>ORDER_PAINREL_API_PREG</th>\n",
              "      <th>ORDER_PAINREL_API_SUF</th>\n",
              "      <th>ORDER_PAINREL_API_TAP</th>\n",
              "      <th>ORDER_PAINREL_API_TRAM</th>\n",
              "      <th>BHYD_USE</th>\n",
              "      <th>BUP_USE</th>\n",
              "      <th>COD_USE</th>\n",
              "      <th>DIHY_USE</th>\n",
              "      <th>ELU_USE</th>\n",
              "      <th>FENT_USE</th>\n",
              "      <th>...</th>\n",
              "      <th>THC_NMUWK</th>\n",
              "      <th>OP_USE</th>\n",
              "      <th>OP_USEYR</th>\n",
              "      <th>OP_NMU</th>\n",
              "      <th>OP_NMUYR</th>\n",
              "      <th>OP_NMUNTY</th>\n",
              "      <th>OP_NMUMNTH</th>\n",
              "      <th>OP_NMUWK</th>\n",
              "      <th>GABA_USE</th>\n",
              "      <th>GABA_USEYR</th>\n",
              "      <th>GABA_NMU</th>\n",
              "      <th>GABA_NMUYR</th>\n",
              "      <th>GABA_NMUNTY</th>\n",
              "      <th>GABA_NMUMNTH</th>\n",
              "      <th>GABA_NMUWK</th>\n",
              "      <th>BHYD_NMUNTY</th>\n",
              "      <th>BUP_NMUNTY</th>\n",
              "      <th>COD_NMUNTY</th>\n",
              "      <th>DIHY_NMUNTY</th>\n",
              "      <th>FENT_NMUNTY</th>\n",
              "      <th>HYD_NMUNTY</th>\n",
              "      <th>HYDM_NMUNTY</th>\n",
              "      <th>METH_NMUNTY</th>\n",
              "      <th>MORPH_NMUNTY</th>\n",
              "      <th>OXY_NMUNTY</th>\n",
              "      <th>OXYM_NMUNTY</th>\n",
              "      <th>SUF_NMUNTY</th>\n",
              "      <th>TAP_NMUNTY</th>\n",
              "      <th>TRAM_NMUNTY</th>\n",
              "      <th>ILLXCAN_USE</th>\n",
              "      <th>ILLXCAN_YR</th>\n",
              "      <th>ILLXCAN_NTY</th>\n",
              "      <th>ILLXCAN_MNTH</th>\n",
              "      <th>ILLXCAN_WK</th>\n",
              "      <th>ILL_USE</th>\n",
              "      <th>ILL_YR</th>\n",
              "      <th>ILL_NTY</th>\n",
              "      <th>ILL_MNTH</th>\n",
              "      <th>ILL_WK</th>\n",
              "      <th>WT</th>\n",
              "    </tr>\n",
              "  </thead>\n",
              "  <tbody>\n",
              "    <tr>\n",
              "      <th>0</th>\n",
              "      <td>2019-03-27 14:16:02</td>\n",
              "      <td>3</td>\n",
              "      <td>1</td>\n",
              "      <td>2</td>\n",
              "      <td>51</td>\n",
              "      <td>782</td>\n",
              "      <td>3</td>\n",
              "      <td>4</td>\n",
              "      <td>3</td>\n",
              "      <td>2</td>\n",
              "      <td>0</td>\n",
              "      <td>1</td>\n",
              "      <td>3</td>\n",
              "      <td>4</td>\n",
              "      <td>1</td>\n",
              "      <td>2</td>\n",
              "      <td>1</td>\n",
              "      <td>6</td>\n",
              "      <td>13</td>\n",
              "      <td>15</td>\n",
              "      <td>4</td>\n",
              "      <td>17</td>\n",
              "      <td>2</td>\n",
              "      <td>8</td>\n",
              "      <td>16</td>\n",
              "      <td>12</td>\n",
              "      <td>18</td>\n",
              "      <td>11</td>\n",
              "      <td>14</td>\n",
              "      <td>9</td>\n",
              "      <td>7</td>\n",
              "      <td>3</td>\n",
              "      <td>5</td>\n",
              "      <td>10</td>\n",
              "      <td>0</td>\n",
              "      <td>0</td>\n",
              "      <td>0</td>\n",
              "      <td>0</td>\n",
              "      <td>0</td>\n",
              "      <td>0</td>\n",
              "      <td>...</td>\n",
              "      <td>0</td>\n",
              "      <td>0</td>\n",
              "      <td>0</td>\n",
              "      <td>0</td>\n",
              "      <td>0</td>\n",
              "      <td>0</td>\n",
              "      <td>0</td>\n",
              "      <td>0</td>\n",
              "      <td>0</td>\n",
              "      <td>0</td>\n",
              "      <td>0</td>\n",
              "      <td>0</td>\n",
              "      <td>0</td>\n",
              "      <td>0</td>\n",
              "      <td>0</td>\n",
              "      <td>0</td>\n",
              "      <td>0</td>\n",
              "      <td>0</td>\n",
              "      <td>0</td>\n",
              "      <td>0</td>\n",
              "      <td>0</td>\n",
              "      <td>0</td>\n",
              "      <td>0</td>\n",
              "      <td>0</td>\n",
              "      <td>0</td>\n",
              "      <td>0</td>\n",
              "      <td>0</td>\n",
              "      <td>0</td>\n",
              "      <td>0</td>\n",
              "      <td>1</td>\n",
              "      <td>0</td>\n",
              "      <td>0</td>\n",
              "      <td>0</td>\n",
              "      <td>0</td>\n",
              "      <td>1</td>\n",
              "      <td>1</td>\n",
              "      <td>1</td>\n",
              "      <td>1</td>\n",
              "      <td>0</td>\n",
              "      <td>7074.136133</td>\n",
              "    </tr>\n",
              "    <tr>\n",
              "      <th>1</th>\n",
              "      <td>2019-03-24 12:42:54</td>\n",
              "      <td>3</td>\n",
              "      <td>1</td>\n",
              "      <td>2</td>\n",
              "      <td>67</td>\n",
              "      <td>604</td>\n",
              "      <td>2</td>\n",
              "      <td>1</td>\n",
              "      <td>1</td>\n",
              "      <td>2</td>\n",
              "      <td>1</td>\n",
              "      <td>3</td>\n",
              "      <td>3</td>\n",
              "      <td>2</td>\n",
              "      <td>4</td>\n",
              "      <td>1</td>\n",
              "      <td>13</td>\n",
              "      <td>11</td>\n",
              "      <td>1</td>\n",
              "      <td>15</td>\n",
              "      <td>2</td>\n",
              "      <td>3</td>\n",
              "      <td>5</td>\n",
              "      <td>10</td>\n",
              "      <td>6</td>\n",
              "      <td>8</td>\n",
              "      <td>9</td>\n",
              "      <td>17</td>\n",
              "      <td>7</td>\n",
              "      <td>12</td>\n",
              "      <td>18</td>\n",
              "      <td>16</td>\n",
              "      <td>4</td>\n",
              "      <td>14</td>\n",
              "      <td>0</td>\n",
              "      <td>0</td>\n",
              "      <td>0</td>\n",
              "      <td>0</td>\n",
              "      <td>0</td>\n",
              "      <td>0</td>\n",
              "      <td>...</td>\n",
              "      <td>0</td>\n",
              "      <td>0</td>\n",
              "      <td>0</td>\n",
              "      <td>0</td>\n",
              "      <td>0</td>\n",
              "      <td>0</td>\n",
              "      <td>0</td>\n",
              "      <td>0</td>\n",
              "      <td>0</td>\n",
              "      <td>0</td>\n",
              "      <td>0</td>\n",
              "      <td>0</td>\n",
              "      <td>0</td>\n",
              "      <td>0</td>\n",
              "      <td>0</td>\n",
              "      <td>0</td>\n",
              "      <td>0</td>\n",
              "      <td>0</td>\n",
              "      <td>0</td>\n",
              "      <td>0</td>\n",
              "      <td>0</td>\n",
              "      <td>0</td>\n",
              "      <td>0</td>\n",
              "      <td>0</td>\n",
              "      <td>0</td>\n",
              "      <td>0</td>\n",
              "      <td>0</td>\n",
              "      <td>0</td>\n",
              "      <td>0</td>\n",
              "      <td>0</td>\n",
              "      <td>0</td>\n",
              "      <td>0</td>\n",
              "      <td>0</td>\n",
              "      <td>0</td>\n",
              "      <td>0</td>\n",
              "      <td>0</td>\n",
              "      <td>0</td>\n",
              "      <td>0</td>\n",
              "      <td>0</td>\n",
              "      <td>4069.460791</td>\n",
              "    </tr>\n",
              "    <tr>\n",
              "      <th>2</th>\n",
              "      <td>2019-03-21 08:56:26</td>\n",
              "      <td>3</td>\n",
              "      <td>1</td>\n",
              "      <td>2</td>\n",
              "      <td>71</td>\n",
              "      <td>339</td>\n",
              "      <td>3</td>\n",
              "      <td>4</td>\n",
              "      <td>2</td>\n",
              "      <td>4</td>\n",
              "      <td>0</td>\n",
              "      <td>3</td>\n",
              "      <td>1</td>\n",
              "      <td>4</td>\n",
              "      <td>2</td>\n",
              "      <td>3</td>\n",
              "      <td>1</td>\n",
              "      <td>16</td>\n",
              "      <td>7</td>\n",
              "      <td>11</td>\n",
              "      <td>3</td>\n",
              "      <td>15</td>\n",
              "      <td>14</td>\n",
              "      <td>17</td>\n",
              "      <td>4</td>\n",
              "      <td>18</td>\n",
              "      <td>2</td>\n",
              "      <td>12</td>\n",
              "      <td>10</td>\n",
              "      <td>8</td>\n",
              "      <td>6</td>\n",
              "      <td>13</td>\n",
              "      <td>9</td>\n",
              "      <td>5</td>\n",
              "      <td>0</td>\n",
              "      <td>0</td>\n",
              "      <td>0</td>\n",
              "      <td>0</td>\n",
              "      <td>0</td>\n",
              "      <td>0</td>\n",
              "      <td>...</td>\n",
              "      <td>0</td>\n",
              "      <td>1</td>\n",
              "      <td>0</td>\n",
              "      <td>0</td>\n",
              "      <td>0</td>\n",
              "      <td>0</td>\n",
              "      <td>0</td>\n",
              "      <td>0</td>\n",
              "      <td>0</td>\n",
              "      <td>0</td>\n",
              "      <td>0</td>\n",
              "      <td>0</td>\n",
              "      <td>0</td>\n",
              "      <td>0</td>\n",
              "      <td>0</td>\n",
              "      <td>0</td>\n",
              "      <td>0</td>\n",
              "      <td>0</td>\n",
              "      <td>0</td>\n",
              "      <td>0</td>\n",
              "      <td>0</td>\n",
              "      <td>0</td>\n",
              "      <td>0</td>\n",
              "      <td>0</td>\n",
              "      <td>0</td>\n",
              "      <td>0</td>\n",
              "      <td>0</td>\n",
              "      <td>0</td>\n",
              "      <td>0</td>\n",
              "      <td>0</td>\n",
              "      <td>0</td>\n",
              "      <td>0</td>\n",
              "      <td>0</td>\n",
              "      <td>0</td>\n",
              "      <td>0</td>\n",
              "      <td>0</td>\n",
              "      <td>0</td>\n",
              "      <td>0</td>\n",
              "      <td>0</td>\n",
              "      <td>7554.618118</td>\n",
              "    </tr>\n",
              "    <tr>\n",
              "      <th>3</th>\n",
              "      <td>2019-03-24 14:38:49</td>\n",
              "      <td>3</td>\n",
              "      <td>1</td>\n",
              "      <td>2</td>\n",
              "      <td>68</td>\n",
              "      <td>801</td>\n",
              "      <td>4</td>\n",
              "      <td>2</td>\n",
              "      <td>1</td>\n",
              "      <td>4</td>\n",
              "      <td>0</td>\n",
              "      <td>1</td>\n",
              "      <td>2</td>\n",
              "      <td>4</td>\n",
              "      <td>1</td>\n",
              "      <td>3</td>\n",
              "      <td>16</td>\n",
              "      <td>14</td>\n",
              "      <td>7</td>\n",
              "      <td>6</td>\n",
              "      <td>10</td>\n",
              "      <td>15</td>\n",
              "      <td>18</td>\n",
              "      <td>12</td>\n",
              "      <td>11</td>\n",
              "      <td>13</td>\n",
              "      <td>5</td>\n",
              "      <td>1</td>\n",
              "      <td>3</td>\n",
              "      <td>4</td>\n",
              "      <td>9</td>\n",
              "      <td>2</td>\n",
              "      <td>17</td>\n",
              "      <td>8</td>\n",
              "      <td>0</td>\n",
              "      <td>0</td>\n",
              "      <td>1</td>\n",
              "      <td>0</td>\n",
              "      <td>0</td>\n",
              "      <td>0</td>\n",
              "      <td>...</td>\n",
              "      <td>0</td>\n",
              "      <td>1</td>\n",
              "      <td>0</td>\n",
              "      <td>0</td>\n",
              "      <td>0</td>\n",
              "      <td>0</td>\n",
              "      <td>0</td>\n",
              "      <td>0</td>\n",
              "      <td>0</td>\n",
              "      <td>0</td>\n",
              "      <td>0</td>\n",
              "      <td>0</td>\n",
              "      <td>0</td>\n",
              "      <td>0</td>\n",
              "      <td>0</td>\n",
              "      <td>0</td>\n",
              "      <td>0</td>\n",
              "      <td>0</td>\n",
              "      <td>0</td>\n",
              "      <td>0</td>\n",
              "      <td>0</td>\n",
              "      <td>0</td>\n",
              "      <td>0</td>\n",
              "      <td>0</td>\n",
              "      <td>0</td>\n",
              "      <td>0</td>\n",
              "      <td>0</td>\n",
              "      <td>0</td>\n",
              "      <td>0</td>\n",
              "      <td>0</td>\n",
              "      <td>0</td>\n",
              "      <td>0</td>\n",
              "      <td>0</td>\n",
              "      <td>0</td>\n",
              "      <td>0</td>\n",
              "      <td>0</td>\n",
              "      <td>0</td>\n",
              "      <td>0</td>\n",
              "      <td>0</td>\n",
              "      <td>4178.061514</td>\n",
              "    </tr>\n",
              "    <tr>\n",
              "      <th>4</th>\n",
              "      <td>2019-03-24 12:26:53</td>\n",
              "      <td>3</td>\n",
              "      <td>1</td>\n",
              "      <td>2</td>\n",
              "      <td>69</td>\n",
              "      <td>612</td>\n",
              "      <td>2</td>\n",
              "      <td>2</td>\n",
              "      <td>2</td>\n",
              "      <td>4</td>\n",
              "      <td>0</td>\n",
              "      <td>3</td>\n",
              "      <td>2</td>\n",
              "      <td>3</td>\n",
              "      <td>4</td>\n",
              "      <td>1</td>\n",
              "      <td>9</td>\n",
              "      <td>17</td>\n",
              "      <td>2</td>\n",
              "      <td>15</td>\n",
              "      <td>6</td>\n",
              "      <td>1</td>\n",
              "      <td>4</td>\n",
              "      <td>3</td>\n",
              "      <td>7</td>\n",
              "      <td>11</td>\n",
              "      <td>18</td>\n",
              "      <td>8</td>\n",
              "      <td>5</td>\n",
              "      <td>12</td>\n",
              "      <td>10</td>\n",
              "      <td>13</td>\n",
              "      <td>16</td>\n",
              "      <td>14</td>\n",
              "      <td>0</td>\n",
              "      <td>0</td>\n",
              "      <td>0</td>\n",
              "      <td>0</td>\n",
              "      <td>0</td>\n",
              "      <td>0</td>\n",
              "      <td>...</td>\n",
              "      <td>0</td>\n",
              "      <td>0</td>\n",
              "      <td>0</td>\n",
              "      <td>0</td>\n",
              "      <td>0</td>\n",
              "      <td>0</td>\n",
              "      <td>0</td>\n",
              "      <td>0</td>\n",
              "      <td>0</td>\n",
              "      <td>0</td>\n",
              "      <td>0</td>\n",
              "      <td>0</td>\n",
              "      <td>0</td>\n",
              "      <td>0</td>\n",
              "      <td>0</td>\n",
              "      <td>0</td>\n",
              "      <td>0</td>\n",
              "      <td>0</td>\n",
              "      <td>0</td>\n",
              "      <td>0</td>\n",
              "      <td>0</td>\n",
              "      <td>0</td>\n",
              "      <td>0</td>\n",
              "      <td>0</td>\n",
              "      <td>0</td>\n",
              "      <td>0</td>\n",
              "      <td>0</td>\n",
              "      <td>0</td>\n",
              "      <td>0</td>\n",
              "      <td>0</td>\n",
              "      <td>0</td>\n",
              "      <td>0</td>\n",
              "      <td>0</td>\n",
              "      <td>0</td>\n",
              "      <td>0</td>\n",
              "      <td>0</td>\n",
              "      <td>0</td>\n",
              "      <td>0</td>\n",
              "      <td>0</td>\n",
              "      <td>7033.819350</td>\n",
              "    </tr>\n",
              "  </tbody>\n",
              "</table>\n",
              "<p>5 rows × 523 columns</p>\n",
              "</div>"
            ],
            "text/plain": [
              "                  DATE  STATUS  QLANG  ...  ILL_MNTH  ILL_WK           WT\n",
              "0  2019-03-27 14:16:02       3      1  ...         1       0  7074.136133\n",
              "1  2019-03-24 12:42:54       3      1  ...         0       0  4069.460791\n",
              "2  2019-03-21 08:56:26       3      1  ...         0       0  7554.618118\n",
              "3  2019-03-24 14:38:49       3      1  ...         0       0  4178.061514\n",
              "4  2019-03-24 12:26:53       3      1  ...         0       0  7033.819350\n",
              "\n",
              "[5 rows x 523 columns]"
            ]
          },
          "metadata": {
            "tags": []
          },
          "execution_count": 2
        }
      ]
    },
    {
      "cell_type": "code",
      "metadata": {
        "id": "VNCvudUZqcWF"
      },
      "source": [
        "def draw_missing_data_table(df):\n",
        "    ''' Returns a table of % missing from each feature column in the input dataframe'''\n",
        "    total = df.isnull().sum().sort_values(ascending = False)\n",
        "    percent = (df.isnull().sum()/ df.isnull().count()).sort_values(ascending = False)\n",
        "    missing_data = pd.concat([total, percent], axis = 1, keys = ['Total','Percent Missing'])\n",
        "    final_missing = missing_data.reset_index().rename(columns = \n",
        "                                                      {'index': 'feature', \n",
        "                                                       'Total': 'total null', \n",
        "                                                       'Percent Missing': '% of null values in the column'})\n",
        "    return final_missing\n",
        "    "
      ],
      "execution_count": null,
      "outputs": []
    },
    {
      "cell_type": "code",
      "metadata": {
        "id": "_RSsj3oPqo5u"
      },
      "source": [
        "missing_data = draw_missing_data_table(us_19)"
      ],
      "execution_count": null,
      "outputs": []
    },
    {
      "cell_type": "code",
      "metadata": {
        "colab": {
          "base_uri": "https://localhost:8080/",
          "height": 388
        },
        "id": "679u2Q7WrBFY",
        "outputId": "b4da8e0e-cf8a-4e38-c12e-edb4bbfe4f16"
      },
      "source": [
        "missing_data"
      ],
      "execution_count": null,
      "outputs": [
        {
          "output_type": "execute_result",
          "data": {
            "text/html": [
              "<div>\n",
              "<style scoped>\n",
              "    .dataframe tbody tr th:only-of-type {\n",
              "        vertical-align: middle;\n",
              "    }\n",
              "\n",
              "    .dataframe tbody tr th {\n",
              "        vertical-align: top;\n",
              "    }\n",
              "\n",
              "    .dataframe thead th {\n",
              "        text-align: right;\n",
              "    }\n",
              "</style>\n",
              "<table border=\"1\" class=\"dataframe\">\n",
              "  <thead>\n",
              "    <tr style=\"text-align: right;\">\n",
              "      <th></th>\n",
              "      <th>feature</th>\n",
              "      <th>total null</th>\n",
              "      <th>% of null values in the column</th>\n",
              "    </tr>\n",
              "  </thead>\n",
              "  <tbody>\n",
              "    <tr>\n",
              "      <th>0</th>\n",
              "      <td>EST_NMUYR</td>\n",
              "      <td>29795</td>\n",
              "      <td>0.997389</td>\n",
              "    </tr>\n",
              "    <tr>\n",
              "      <th>1</th>\n",
              "      <td>ELU_NMUYR</td>\n",
              "      <td>29790</td>\n",
              "      <td>0.997222</td>\n",
              "    </tr>\n",
              "    <tr>\n",
              "      <th>2</th>\n",
              "      <td>QUA_NMUYR</td>\n",
              "      <td>29790</td>\n",
              "      <td>0.997222</td>\n",
              "    </tr>\n",
              "    <tr>\n",
              "      <th>3</th>\n",
              "      <td>CLOB_NMUYR</td>\n",
              "      <td>29786</td>\n",
              "      <td>0.997088</td>\n",
              "    </tr>\n",
              "    <tr>\n",
              "      <th>4</th>\n",
              "      <td>MID_NMUYR</td>\n",
              "      <td>29763</td>\n",
              "      <td>0.996318</td>\n",
              "    </tr>\n",
              "    <tr>\n",
              "      <th>...</th>\n",
              "      <td>...</td>\n",
              "      <td>...</td>\n",
              "      <td>...</td>\n",
              "    </tr>\n",
              "    <tr>\n",
              "      <th>518</th>\n",
              "      <td>DEM_MARITAL</td>\n",
              "      <td>0</td>\n",
              "      <td>0.000000</td>\n",
              "    </tr>\n",
              "    <tr>\n",
              "      <th>519</th>\n",
              "      <td>DEM_EDU</td>\n",
              "      <td>0</td>\n",
              "      <td>0.000000</td>\n",
              "    </tr>\n",
              "    <tr>\n",
              "      <th>520</th>\n",
              "      <td>DEM_STDNT</td>\n",
              "      <td>0</td>\n",
              "      <td>0.000000</td>\n",
              "    </tr>\n",
              "    <tr>\n",
              "      <th>521</th>\n",
              "      <td>DEM_VET</td>\n",
              "      <td>0</td>\n",
              "      <td>0.000000</td>\n",
              "    </tr>\n",
              "    <tr>\n",
              "      <th>522</th>\n",
              "      <td>DATE</td>\n",
              "      <td>0</td>\n",
              "      <td>0.000000</td>\n",
              "    </tr>\n",
              "  </tbody>\n",
              "</table>\n",
              "<p>523 rows × 3 columns</p>\n",
              "</div>"
            ],
            "text/plain": [
              "         feature  total null  % of null values in the column\n",
              "0      EST_NMUYR       29795                        0.997389\n",
              "1      ELU_NMUYR       29790                        0.997222\n",
              "2      QUA_NMUYR       29790                        0.997222\n",
              "3     CLOB_NMUYR       29786                        0.997088\n",
              "4      MID_NMUYR       29763                        0.996318\n",
              "..           ...         ...                             ...\n",
              "518  DEM_MARITAL           0                        0.000000\n",
              "519      DEM_EDU           0                        0.000000\n",
              "520    DEM_STDNT           0                        0.000000\n",
              "521      DEM_VET           0                        0.000000\n",
              "522         DATE           0                        0.000000\n",
              "\n",
              "[523 rows x 3 columns]"
            ]
          },
          "metadata": {
            "tags": []
          },
          "execution_count": 5
        }
      ]
    },
    {
      "cell_type": "code",
      "metadata": {
        "colab": {
          "base_uri": "https://localhost:8080/",
          "height": 492
        },
        "id": "DJqwRCnLrV2X",
        "outputId": "5eebf70a-36b9-4147-cffe-1d3bf1786837"
      },
      "source": [
        "plt.figure( figsize = (35,10))\n",
        "plt.bar(missing_data['feature'], missing_data['% of null values in the column'])\n",
        "plt.show()"
      ],
      "execution_count": null,
      "outputs": [
        {
          "output_type": "display_data",
          "data": {
            "image/png": "[encoded data removed]",
            "text/plain": [
              "<Figure size 2520x720 with 1 Axes>"
            ]
          },
          "metadata": {
            "tags": [],
            "needs_background": "light"
          }
        }
      ]
    },
    {
      "cell_type": "code",
      "metadata": {
        "colab": {
          "base_uri": "https://localhost:8080/",
          "height": 388
        },
        "id": "hUSPFAdyri1f",
        "outputId": "0b86a636-5cda-4fd8-f2d1-2274466d23fe"
      },
      "source": [
        "missing_data[missing_data['% of null values in the column'] > 0.3]"
      ],
      "execution_count": null,
      "outputs": [
        {
          "output_type": "execute_result",
          "data": {
            "text/html": [
              "<div>\n",
              "<style scoped>\n",
              "    .dataframe tbody tr th:only-of-type {\n",
              "        vertical-align: middle;\n",
              "    }\n",
              "\n",
              "    .dataframe tbody tr th {\n",
              "        vertical-align: top;\n",
              "    }\n",
              "\n",
              "    .dataframe thead th {\n",
              "        text-align: right;\n",
              "    }\n",
              "</style>\n",
              "<table border=\"1\" class=\"dataframe\">\n",
              "  <thead>\n",
              "    <tr style=\"text-align: right;\">\n",
              "      <th></th>\n",
              "      <th>feature</th>\n",
              "      <th>total null</th>\n",
              "      <th>% of null values in the column</th>\n",
              "    </tr>\n",
              "  </thead>\n",
              "  <tbody>\n",
              "    <tr>\n",
              "      <th>0</th>\n",
              "      <td>EST_NMUYR</td>\n",
              "      <td>29795</td>\n",
              "      <td>0.997389</td>\n",
              "    </tr>\n",
              "    <tr>\n",
              "      <th>1</th>\n",
              "      <td>ELU_NMUYR</td>\n",
              "      <td>29790</td>\n",
              "      <td>0.997222</td>\n",
              "    </tr>\n",
              "    <tr>\n",
              "      <th>2</th>\n",
              "      <td>QUA_NMUYR</td>\n",
              "      <td>29790</td>\n",
              "      <td>0.997222</td>\n",
              "    </tr>\n",
              "    <tr>\n",
              "      <th>3</th>\n",
              "      <td>CLOB_NMUYR</td>\n",
              "      <td>29786</td>\n",
              "      <td>0.997088</td>\n",
              "    </tr>\n",
              "    <tr>\n",
              "      <th>4</th>\n",
              "      <td>MID_NMUYR</td>\n",
              "      <td>29763</td>\n",
              "      <td>0.996318</td>\n",
              "    </tr>\n",
              "    <tr>\n",
              "      <th>...</th>\n",
              "      <td>...</td>\n",
              "      <td>...</td>\n",
              "      <td>...</td>\n",
              "    </tr>\n",
              "    <tr>\n",
              "      <th>224</th>\n",
              "      <td>DEM_PREG</td>\n",
              "      <td>13908</td>\n",
              "      <td>0.465571</td>\n",
              "    </tr>\n",
              "    <tr>\n",
              "      <th>225</th>\n",
              "      <td>NAP_NMU</td>\n",
              "      <td>13474</td>\n",
              "      <td>0.451043</td>\n",
              "    </tr>\n",
              "    <tr>\n",
              "      <th>226</th>\n",
              "      <td>NAP_USEYR</td>\n",
              "      <td>13474</td>\n",
              "      <td>0.451043</td>\n",
              "    </tr>\n",
              "    <tr>\n",
              "      <th>227</th>\n",
              "      <td>ACE_NMUYR</td>\n",
              "      <td>12174</td>\n",
              "      <td>0.407525</td>\n",
              "    </tr>\n",
              "    <tr>\n",
              "      <th>228</th>\n",
              "      <td>IBU_NMUYR</td>\n",
              "      <td>10992</td>\n",
              "      <td>0.367958</td>\n",
              "    </tr>\n",
              "  </tbody>\n",
              "</table>\n",
              "<p>229 rows × 3 columns</p>\n",
              "</div>"
            ],
            "text/plain": [
              "        feature  total null  % of null values in the column\n",
              "0     EST_NMUYR       29795                        0.997389\n",
              "1     ELU_NMUYR       29790                        0.997222\n",
              "2     QUA_NMUYR       29790                        0.997222\n",
              "3    CLOB_NMUYR       29786                        0.997088\n",
              "4     MID_NMUYR       29763                        0.996318\n",
              "..          ...         ...                             ...\n",
              "224    DEM_PREG       13908                        0.465571\n",
              "225     NAP_NMU       13474                        0.451043\n",
              "226   NAP_USEYR       13474                        0.451043\n",
              "227   ACE_NMUYR       12174                        0.407525\n",
              "228   IBU_NMUYR       10992                        0.367958\n",
              "\n",
              "[229 rows x 3 columns]"
            ]
          },
          "metadata": {
            "tags": []
          },
          "execution_count": 7
        }
      ]
    },
    {
      "cell_type": "code",
      "metadata": {
        "colab": {
          "base_uri": "https://localhost:8080/",
          "height": 264
        },
        "id": "3_ttVcNOx9FJ",
        "outputId": "6c27e86b-c008-4224-b645-eded3d61b1fd"
      },
      "source": [
        "us_19['OP_USE'].value_counts().plot(kind='pie')"
      ],
      "execution_count": null,
      "outputs": [
        {
          "output_type": "execute_result",
          "data": {
            "text/plain": [
              "<matplotlib.axes._subplots.AxesSubplot at 0x7fc2b7db96d0>"
            ]
          },
          "metadata": {
            "tags": []
          },
          "execution_count": 8
        },
        {
          "output_type": "display_data",
          "data": {
            "image/png": "[encoded data removed]",
            "text/plain": [
              "<Figure size 432x288 with 1 Axes>"
            ]
          },
          "metadata": {
            "tags": []
          }
        }
      ]
    },
    {
      "cell_type": "code",
      "metadata": {
        "colab": {
          "base_uri": "https://localhost:8080/",
          "height": 264
        },
        "id": "Jh2gFIhX0FeB",
        "outputId": "6cad8d0e-e1b8-411b-bba5-ab7c1aadb911"
      },
      "source": [
        "us_19['OP_NMU'].value_counts().plot(kind='pie')"
      ],
      "execution_count": null,
      "outputs": [
        {
          "output_type": "execute_result",
          "data": {
            "text/plain": [
              "<matplotlib.axes._subplots.AxesSubplot at 0x7fc2b68223d0>"
            ]
          },
          "metadata": {
            "tags": []
          },
          "execution_count": 9
        },
        {
          "output_type": "display_data",
          "data": {
            "image/png": "[encoded data removed]",
            "text/plain": [
              "<Figure size 432x288 with 1 Axes>"
            ]
          },
          "metadata": {
            "tags": []
          }
        }
      ]
    },
    {
      "cell_type": "code",
      "metadata": {
        "id": "0_rZiQpr0ZNb"
      },
      "source": [
        "# races = ['DEM_RACE_AIAN', 'DEM_RACE_ASIAN', 'DEM_RACE_BLACK', 'DEM_RACE_NHPI', 'DEM_RACE_WHITE', 'DEM_RACE_OTH']"
      ],
      "execution_count": null,
      "outputs": []
    },
    {
      "cell_type": "code",
      "metadata": {
        "id": "Vu93VXas0qWl"
      },
      "source": [
        "high_miss = missing_data.iloc[229:].feature.tolist()\n",
        "us_19mod = us_19[high_miss]"
      ],
      "execution_count": null,
      "outputs": []
    },
    {
      "cell_type": "code",
      "metadata": {
        "colab": {
          "base_uri": "https://localhost:8080/",
          "height": 246
        },
        "id": "8MBpQOnhgT9V",
        "outputId": "c8420a64-d363-4f94-d422-565a3ca0e2b1"
      },
      "source": [
        "missing_data2 = draw_missing_data_table(us_19mod)\n",
        "missing_data2.head(7)"
      ],
      "execution_count": null,
      "outputs": [
        {
          "output_type": "execute_result",
          "data": {
            "text/html": [
              "<div>\n",
              "<style scoped>\n",
              "    .dataframe tbody tr th:only-of-type {\n",
              "        vertical-align: middle;\n",
              "    }\n",
              "\n",
              "    .dataframe tbody tr th {\n",
              "        vertical-align: top;\n",
              "    }\n",
              "\n",
              "    .dataframe thead th {\n",
              "        text-align: right;\n",
              "    }\n",
              "</style>\n",
              "<table border=\"1\" class=\"dataframe\">\n",
              "  <thead>\n",
              "    <tr style=\"text-align: right;\">\n",
              "      <th></th>\n",
              "      <th>feature</th>\n",
              "      <th>total null</th>\n",
              "      <th>% of null values in the column</th>\n",
              "    </tr>\n",
              "  </thead>\n",
              "  <tbody>\n",
              "    <tr>\n",
              "      <th>0</th>\n",
              "      <td>ASP_NMU</td>\n",
              "      <td>7090</td>\n",
              "      <td>0.237338</td>\n",
              "    </tr>\n",
              "    <tr>\n",
              "      <th>1</th>\n",
              "      <td>ASP_USEYR</td>\n",
              "      <td>7090</td>\n",
              "      <td>0.237338</td>\n",
              "    </tr>\n",
              "    <tr>\n",
              "      <th>2</th>\n",
              "      <td>ACE_USEYR</td>\n",
              "      <td>6402</td>\n",
              "      <td>0.214307</td>\n",
              "    </tr>\n",
              "    <tr>\n",
              "      <th>3</th>\n",
              "      <td>ACE_NMU</td>\n",
              "      <td>6402</td>\n",
              "      <td>0.214307</td>\n",
              "    </tr>\n",
              "    <tr>\n",
              "      <th>4</th>\n",
              "      <td>IBU_USEYR</td>\n",
              "      <td>5229</td>\n",
              "      <td>0.175041</td>\n",
              "    </tr>\n",
              "    <tr>\n",
              "      <th>5</th>\n",
              "      <td>IBU_NMU</td>\n",
              "      <td>5229</td>\n",
              "      <td>0.175041</td>\n",
              "    </tr>\n",
              "    <tr>\n",
              "      <th>6</th>\n",
              "      <td>ORDER_SED_API_ZOL</td>\n",
              "      <td>0</td>\n",
              "      <td>0.000000</td>\n",
              "    </tr>\n",
              "  </tbody>\n",
              "</table>\n",
              "</div>"
            ],
            "text/plain": [
              "             feature  total null  % of null values in the column\n",
              "0            ASP_NMU        7090                        0.237338\n",
              "1          ASP_USEYR        7090                        0.237338\n",
              "2          ACE_USEYR        6402                        0.214307\n",
              "3            ACE_NMU        6402                        0.214307\n",
              "4          IBU_USEYR        5229                        0.175041\n",
              "5            IBU_NMU        5229                        0.175041\n",
              "6  ORDER_SED_API_ZOL           0                        0.000000"
            ]
          },
          "metadata": {
            "tags": []
          },
          "execution_count": 12
        }
      ]
    },
    {
      "cell_type": "markdown",
      "metadata": {
        "id": "ZJwIXIBjjQ_w"
      },
      "source": [
        "## Exploring Features with a lot of Missing Values"
      ]
    },
    {
      "cell_type": "code",
      "metadata": {
        "colab": {
          "base_uri": "https://localhost:8080/"
        },
        "id": "BCaztoWPh2M-",
        "outputId": "7a10b56c-ba80-4287-a7ad-cc19ec5263ff"
      },
      "source": [
        "high_miss_df = missing_data2.loc[missing_data2['% of null values in the column'] != 0]\n",
        "high_miss_features = high_miss_df.feature.tolist()\n",
        "high_miss_features"
      ],
      "execution_count": null,
      "outputs": [
        {
          "output_type": "execute_result",
          "data": {
            "text/plain": [
              "['ASP_NMU', 'ASP_USEYR', 'ACE_USEYR', 'ACE_NMU', 'IBU_USEYR', 'IBU_NMU']"
            ]
          },
          "metadata": {
            "tags": []
          },
          "execution_count": 13
        }
      ]
    },
    {
      "cell_type": "markdown",
      "metadata": {
        "id": "bo93GvZkniGx"
      },
      "source": [
        "# Summary of Non Prescription use in the last 12 Months  & All-Time [High Null Values]\n"
      ]
    },
    {
      "cell_type": "code",
      "metadata": {
        "colab": {
          "base_uri": "https://localhost:8080/",
          "height": 279
        },
        "id": "2rd4rCA4h1t9",
        "outputId": "fb5ec578-e611-4258-9e5d-ecb98b4ca797"
      },
      "source": [
        "PATH = '/content/drive/MyDrive/DataFest 2021/Missing Data Pics/'\n",
        "\n",
        "def func(pct, allvalues):\n",
        "    absolute = int(pct / 100.*np.sum(allvalues))\n",
        "    return \"{:.1f}%\".format(pct, absolute)\n",
        "\n",
        "us_19mod['ASP_NMU'].value_counts().plot(kind = 'pie', \n",
        "                                        colors = ['#be0000', '#9ede73'], \n",
        "                                        title = 'Distribution of Respondents that have \\n EVER Misused Non-Prescription Aspirin', \n",
        "                                        autopct=lambda pct: func(pct, us_19mod['ASP_NMU'].value_counts()))\n",
        "plt.savefig(PATH + 'asprin_misuse.png', dpi = 400)"
      ],
      "execution_count": null,
      "outputs": [
        {
          "output_type": "display_data",
          "data": {
            "image/png": "[encoded data removed]",
            "text/plain": [
              "<Figure size 432x288 with 1 Axes>"
            ]
          },
          "metadata": {
            "tags": []
          }
        }
      ]
    },
    {
      "cell_type": "code",
      "metadata": {
        "colab": {
          "base_uri": "https://localhost:8080/"
        },
        "id": "Tv8WJ8ru65vk",
        "outputId": "a2687935-ab4a-431b-cee6-343fa5310ef6"
      },
      "source": [
        "us_19mod['ASP_NMU'].fillna(0.0, inplace = True)"
      ],
      "execution_count": null,
      "outputs": [
        {
          "output_type": "stream",
          "text": [
            "/usr/local/lib/python3.7/dist-packages/pandas/core/series.py:4536: SettingWithCopyWarning: \n",
            "A value is trying to be set on a copy of a slice from a DataFrame\n",
            "\n",
            "See the caveats in the documentation: https://pandas.pydata.org/pandas-docs/stable/user_guide/indexing.html#returning-a-view-versus-a-copy\n",
            "  downcast=downcast,\n"
          ],
          "name": "stderr"
        }
      ]
    },
    {
      "cell_type": "code",
      "metadata": {
        "colab": {
          "base_uri": "https://localhost:8080/",
          "height": 279
        },
        "id": "iq_LlYP7jgAe",
        "outputId": "579a44d8-dfc1-4f1f-c5b5-8a48a678f6a5"
      },
      "source": [
        "us_19mod['ASP_USEYR'].value_counts().plot(kind = 'pie', \n",
        "                                          colors = ['#9ede73', '#be0000'], \n",
        "                                          title = 'Distribution of Respondents that have \\n used Non-Prescription Asprin (Excedrin, Migraine, Vazalore) in the last 12 Months',\n",
        "                                          autopct=lambda pct: func(pct, us_19mod['ASP_USEYR'].value_counts()))\n",
        "plt.savefig(PATH + 'asprin_12mo.png', dpi = 400)"
      ],
      "execution_count": null,
      "outputs": [
        {
          "output_type": "display_data",
          "data": {
            "image/png": "[encoded data removed]",
            "text/plain": [
              "<Figure size 432x288 with 1 Axes>"
            ]
          },
          "metadata": {
            "tags": []
          }
        }
      ]
    },
    {
      "cell_type": "code",
      "metadata": {
        "colab": {
          "base_uri": "https://localhost:8080/"
        },
        "id": "9DBXqly07D5Y",
        "outputId": "6a7a90d3-5d60-4a6f-db71-5b5ee7dac67f"
      },
      "source": [
        "us_19mod['ASP_USEYR'].fillna(0.0, inplace = True)"
      ],
      "execution_count": null,
      "outputs": [
        {
          "output_type": "stream",
          "text": [
            "/usr/local/lib/python3.7/dist-packages/pandas/core/series.py:4536: SettingWithCopyWarning: \n",
            "A value is trying to be set on a copy of a slice from a DataFrame\n",
            "\n",
            "See the caveats in the documentation: https://pandas.pydata.org/pandas-docs/stable/user_guide/indexing.html#returning-a-view-versus-a-copy\n",
            "  downcast=downcast,\n"
          ],
          "name": "stderr"
        }
      ]
    },
    {
      "cell_type": "code",
      "metadata": {
        "colab": {
          "base_uri": "https://localhost:8080/",
          "height": 279
        },
        "id": "bBJo2YwHjkDo",
        "outputId": "99038b77-e82a-4a7e-9e4d-fef5a0874f9f"
      },
      "source": [
        "us_19mod['ACE_USEYR'].value_counts().plot(kind = 'pie', \n",
        "                                          colors = ['#9ede73', '#be0000'], \n",
        "                                          title = 'Distribution of Respondents that have \\n used Non-Prescription Acetaminophen (Tylenol, Excedrin, etc.) in the last 12 Months',\n",
        "                                          autopct=lambda pct: func(pct, us_19mod['ACE_USEYR'].value_counts()))\n",
        "plt.savefig(PATH + 'acetaminiophen_12mo.png', dpi = 400)"
      ],
      "execution_count": null,
      "outputs": [
        {
          "output_type": "display_data",
          "data": {
            "image/png": "[encoded data removed]",
            "text/plain": [
              "<Figure size 432x288 with 1 Axes>"
            ]
          },
          "metadata": {
            "tags": []
          }
        }
      ]
    },
    {
      "cell_type": "code",
      "metadata": {
        "colab": {
          "base_uri": "https://localhost:8080/"
        },
        "id": "pfsvv4vc7Sv9",
        "outputId": "15e96ab4-d6a8-49f1-b63e-c1842cca10bf"
      },
      "source": [
        "us_19mod['ACE_USEYR'].fillna(0.0, inplace= True)"
      ],
      "execution_count": null,
      "outputs": [
        {
          "output_type": "stream",
          "text": [
            "/usr/local/lib/python3.7/dist-packages/pandas/core/series.py:4536: SettingWithCopyWarning: \n",
            "A value is trying to be set on a copy of a slice from a DataFrame\n",
            "\n",
            "See the caveats in the documentation: https://pandas.pydata.org/pandas-docs/stable/user_guide/indexing.html#returning-a-view-versus-a-copy\n",
            "  downcast=downcast,\n"
          ],
          "name": "stderr"
        }
      ]
    },
    {
      "cell_type": "code",
      "metadata": {
        "colab": {
          "base_uri": "https://localhost:8080/",
          "height": 279
        },
        "id": "UqOzxvrbjpW6",
        "outputId": "84c862ed-63e6-4eff-d450-68b53bc03a94"
      },
      "source": [
        "us_19mod['ACE_NMU'].value_counts().plot(kind = 'pie', \n",
        "                                        colors = ['#9ede73', '#be0000'], \n",
        "                                        title = 'Distribution of Respondents that have \\n EVER Misused Non-Prescription Acetaminophen (Tylenol, Excedrin, etc.)',\n",
        "                                        autopct=lambda pct: func(pct, us_19mod['ACE_NMU'].value_counts()))\n",
        "plt.savefig(PATH + 'acetaminiophen_ever.png', dpi = 400)"
      ],
      "execution_count": null,
      "outputs": [
        {
          "output_type": "display_data",
          "data": {
            "image/png": "[encoded data removed]",
            "text/plain": [
              "<Figure size 432x288 with 1 Axes>"
            ]
          },
          "metadata": {
            "tags": []
          }
        }
      ]
    },
    {
      "cell_type": "code",
      "metadata": {
        "colab": {
          "base_uri": "https://localhost:8080/"
        },
        "id": "OvzFlcg-7y7q",
        "outputId": "2ec94823-6fb6-48e4-9da0-f77c3ce516aa"
      },
      "source": [
        "us_19mod['ACE_NMU'].fillna(0.0, inplace= True)"
      ],
      "execution_count": null,
      "outputs": [
        {
          "output_type": "stream",
          "text": [
            "/usr/local/lib/python3.7/dist-packages/pandas/core/series.py:4536: SettingWithCopyWarning: \n",
            "A value is trying to be set on a copy of a slice from a DataFrame\n",
            "\n",
            "See the caveats in the documentation: https://pandas.pydata.org/pandas-docs/stable/user_guide/indexing.html#returning-a-view-versus-a-copy\n",
            "  downcast=downcast,\n"
          ],
          "name": "stderr"
        }
      ]
    },
    {
      "cell_type": "code",
      "metadata": {
        "colab": {
          "base_uri": "https://localhost:8080/",
          "height": 279
        },
        "id": "6ZqoRshXjpGe",
        "outputId": "94a18b42-1e4f-44ba-8051-ab18648ed34a"
      },
      "source": [
        "us_19mod['IBU_USEYR'].value_counts().plot(kind = 'pie', \n",
        "                                          colors = ['#9ede73', '#be0000'], \n",
        "                                          title = 'Distribution of Respondents that have \\n used Non-Prescription Ibuprofen (Advil, Motrin, etc.) in the last 12 Months',\n",
        "                                          autopct=lambda pct: func(pct, us_19mod['IBU_USEYR'].value_counts()))\n",
        "plt.savefig(PATH + 'Ibuprofen_12mo.png', dpi = 400)"
      ],
      "execution_count": null,
      "outputs": [
        {
          "output_type": "display_data",
          "data": {
            "image/png": "[encoded data removed]",
            "text/plain": [
              "<Figure size 432x288 with 1 Axes>"
            ]
          },
          "metadata": {
            "tags": []
          }
        }
      ]
    },
    {
      "cell_type": "code",
      "metadata": {
        "colab": {
          "base_uri": "https://localhost:8080/"
        },
        "id": "MCN-ANFJ75fk",
        "outputId": "2adfca35-0435-4554-b079-db1aa2620ca1"
      },
      "source": [
        "us_19mod['IBU_USEYR'].fillna(0.0, inplace= True)"
      ],
      "execution_count": null,
      "outputs": [
        {
          "output_type": "stream",
          "text": [
            "/usr/local/lib/python3.7/dist-packages/pandas/core/series.py:4536: SettingWithCopyWarning: \n",
            "A value is trying to be set on a copy of a slice from a DataFrame\n",
            "\n",
            "See the caveats in the documentation: https://pandas.pydata.org/pandas-docs/stable/user_guide/indexing.html#returning-a-view-versus-a-copy\n",
            "  downcast=downcast,\n"
          ],
          "name": "stderr"
        }
      ]
    },
    {
      "cell_type": "code",
      "metadata": {
        "colab": {
          "base_uri": "https://localhost:8080/",
          "height": 279
        },
        "id": "F2dfZkAsj6Oi",
        "outputId": "97050884-0808-4619-ceaf-888cb7bc8169"
      },
      "source": [
        "us_19mod['IBU_NMU'].value_counts().plot(kind = 'pie', \n",
        "                                        colors = ['#9ede73', '#be0000'], \n",
        "                                        title = 'Distribution of Respondents that have \\n EVER Misused Non-Prescription Ibuprofen (Avil, Motrin, etc.)',\n",
        "                                        autopct=lambda pct: func(pct, us_19mod['IBU_NMU'].value_counts()))\n",
        "plt.savefig(PATH + 'Ibuprofen_ever.png', dpi = 400)"
      ],
      "execution_count": null,
      "outputs": [
        {
          "output_type": "display_data",
          "data": {
            "image/png": "[encoded data removed]",
            "text/plain": [
              "<Figure size 432x288 with 1 Axes>"
            ]
          },
          "metadata": {
            "tags": []
          }
        }
      ]
    },
    {
      "cell_type": "code",
      "metadata": {
        "colab": {
          "base_uri": "https://localhost:8080/"
        },
        "id": "he1-2vME7-TH",
        "outputId": "c227d761-fc35-498b-c2f8-603825e77233"
      },
      "source": [
        "us_19mod['IBU_NMU'].fillna(0.0, inplace= True)"
      ],
      "execution_count": null,
      "outputs": [
        {
          "output_type": "stream",
          "text": [
            "/usr/local/lib/python3.7/dist-packages/pandas/core/series.py:4536: SettingWithCopyWarning: \n",
            "A value is trying to be set on a copy of a slice from a DataFrame\n",
            "\n",
            "See the caveats in the documentation: https://pandas.pydata.org/pandas-docs/stable/user_guide/indexing.html#returning-a-view-versus-a-copy\n",
            "  downcast=downcast,\n"
          ],
          "name": "stderr"
        }
      ]
    },
    {
      "cell_type": "code",
      "metadata": {
        "colab": {
          "base_uri": "https://localhost:8080/",
          "height": 405
        },
        "id": "pz85mC9j8WbZ",
        "outputId": "9be3f280-ca9c-4f48-feb3-034b23c8b7a0"
      },
      "source": [
        "print('Now we have a DataSet with no missing values')\n",
        "draw_missing_data_table(us_19mod)"
      ],
      "execution_count": null,
      "outputs": [
        {
          "output_type": "stream",
          "text": [
            "Now we have a DataSet with no missing values\n"
          ],
          "name": "stdout"
        },
        {
          "output_type": "execute_result",
          "data": {
            "text/html": [
              "<div>\n",
              "<style scoped>\n",
              "    .dataframe tbody tr th:only-of-type {\n",
              "        vertical-align: middle;\n",
              "    }\n",
              "\n",
              "    .dataframe tbody tr th {\n",
              "        vertical-align: top;\n",
              "    }\n",
              "\n",
              "    .dataframe thead th {\n",
              "        text-align: right;\n",
              "    }\n",
              "</style>\n",
              "<table border=\"1\" class=\"dataframe\">\n",
              "  <thead>\n",
              "    <tr style=\"text-align: right;\">\n",
              "      <th></th>\n",
              "      <th>feature</th>\n",
              "      <th>total null</th>\n",
              "      <th>% of null values in the column</th>\n",
              "    </tr>\n",
              "  </thead>\n",
              "  <tbody>\n",
              "    <tr>\n",
              "      <th>0</th>\n",
              "      <td>DATE</td>\n",
              "      <td>0</td>\n",
              "      <td>0.0</td>\n",
              "    </tr>\n",
              "    <tr>\n",
              "      <th>1</th>\n",
              "      <td>SED_USE</td>\n",
              "      <td>0</td>\n",
              "      <td>0.0</td>\n",
              "    </tr>\n",
              "    <tr>\n",
              "      <th>2</th>\n",
              "      <td>ORDER_PAINREL_API_COD</td>\n",
              "      <td>0</td>\n",
              "      <td>0.0</td>\n",
              "    </tr>\n",
              "    <tr>\n",
              "      <th>3</th>\n",
              "      <td>ORDER_SED_API_TEM</td>\n",
              "      <td>0</td>\n",
              "      <td>0.0</td>\n",
              "    </tr>\n",
              "    <tr>\n",
              "      <th>4</th>\n",
              "      <td>ORDER_SED_API_TRI</td>\n",
              "      <td>0</td>\n",
              "      <td>0.0</td>\n",
              "    </tr>\n",
              "    <tr>\n",
              "      <th>...</th>\n",
              "      <td>...</td>\n",
              "      <td>...</td>\n",
              "      <td>...</td>\n",
              "    </tr>\n",
              "    <tr>\n",
              "      <th>289</th>\n",
              "      <td>GABA_NMU</td>\n",
              "      <td>0</td>\n",
              "      <td>0.0</td>\n",
              "    </tr>\n",
              "    <tr>\n",
              "      <th>290</th>\n",
              "      <td>GABA_NMUYR</td>\n",
              "      <td>0</td>\n",
              "      <td>0.0</td>\n",
              "    </tr>\n",
              "    <tr>\n",
              "      <th>291</th>\n",
              "      <td>GABA_NMUNTY</td>\n",
              "      <td>0</td>\n",
              "      <td>0.0</td>\n",
              "    </tr>\n",
              "    <tr>\n",
              "      <th>292</th>\n",
              "      <td>GABA_NMUMNTH</td>\n",
              "      <td>0</td>\n",
              "      <td>0.0</td>\n",
              "    </tr>\n",
              "    <tr>\n",
              "      <th>293</th>\n",
              "      <td>ASP_NMU</td>\n",
              "      <td>0</td>\n",
              "      <td>0.0</td>\n",
              "    </tr>\n",
              "  </tbody>\n",
              "</table>\n",
              "<p>294 rows × 3 columns</p>\n",
              "</div>"
            ],
            "text/plain": [
              "                   feature  total null  % of null values in the column\n",
              "0                     DATE           0                             0.0\n",
              "1                  SED_USE           0                             0.0\n",
              "2    ORDER_PAINREL_API_COD           0                             0.0\n",
              "3        ORDER_SED_API_TEM           0                             0.0\n",
              "4        ORDER_SED_API_TRI           0                             0.0\n",
              "..                     ...         ...                             ...\n",
              "289               GABA_NMU           0                             0.0\n",
              "290             GABA_NMUYR           0                             0.0\n",
              "291            GABA_NMUNTY           0                             0.0\n",
              "292           GABA_NMUMNTH           0                             0.0\n",
              "293                ASP_NMU           0                             0.0\n",
              "\n",
              "[294 rows x 3 columns]"
            ]
          },
          "metadata": {
            "tags": []
          },
          "execution_count": 26
        }
      ]
    },
    {
      "cell_type": "markdown",
      "metadata": {
        "id": "re-yIQs6ymlQ"
      },
      "source": [
        "# Objective Question: How does drug use vary according to Race"
      ]
    },
    {
      "cell_type": "code",
      "metadata": {
        "colab": {
          "base_uri": "https://localhost:8080/"
        },
        "id": "JQNIsqXhy3yw",
        "outputId": "98ebdab2-b39f-439c-9fd6-ca0e40bdc51a"
      },
      "source": [
        "us_19mod.dtypes.value_counts()"
      ],
      "execution_count": null,
      "outputs": [
        {
          "output_type": "execute_result",
          "data": {
            "text/plain": [
              "int64      270\n",
              "float64     21\n",
              "object       3\n",
              "dtype: int64"
            ]
          },
          "metadata": {
            "tags": []
          },
          "execution_count": 27
        }
      ]
    },
    {
      "cell_type": "code",
      "metadata": {
        "colab": {
          "base_uri": "https://localhost:8080/"
        },
        "id": "k84IJX9muuX5",
        "outputId": "c2fac727-e0e5-477c-caee-61849f27d07a"
      },
      "source": [
        "#Check columns that have Strings, us_19mod.dtypes[us_19mod.dtypes == 'object'].index.tolist()\n",
        "string_cols = []\n",
        "for col in us_19mod.dtypes[us_19mod.dtypes == 'object'].index:\n",
        "    print(col)"
      ],
      "execution_count": null,
      "outputs": [
        {
          "output_type": "stream",
          "text": [
            "DEM_STATE\n",
            "START_DATE\n",
            "DATE\n"
          ],
          "name": "stdout"
        }
      ]
    },
    {
      "cell_type": "code",
      "metadata": {
        "colab": {
          "base_uri": "https://localhost:8080/"
        },
        "id": "aRMwXcda3-Bv",
        "outputId": "6e5d9c85-13e8-42a4-cfe4-ea0405fa486a"
      },
      "source": [
        "len(us_19mod.dtypes == 'object')"
      ],
      "execution_count": null,
      "outputs": [
        {
          "output_type": "execute_result",
          "data": {
            "text/plain": [
              "294"
            ]
          },
          "metadata": {
            "tags": []
          },
          "execution_count": 29
        }
      ]
    },
    {
      "cell_type": "code",
      "metadata": {
        "colab": {
          "base_uri": "https://localhost:8080/",
          "height": 388
        },
        "id": "2aC1SLPxvbI7",
        "outputId": "6a793bfd-e957-4bff-ce70-2ef83fc57cb0"
      },
      "source": [
        "us_19mod[['DATE', 'START_DATE', 'DEM_STATE']]"
      ],
      "execution_count": null,
      "outputs": [
        {
          "output_type": "execute_result",
          "data": {
            "text/html": [
              "<div>\n",
              "<style scoped>\n",
              "    .dataframe tbody tr th:only-of-type {\n",
              "        vertical-align: middle;\n",
              "    }\n",
              "\n",
              "    .dataframe tbody tr th {\n",
              "        vertical-align: top;\n",
              "    }\n",
              "\n",
              "    .dataframe thead th {\n",
              "        text-align: right;\n",
              "    }\n",
              "</style>\n",
              "<table border=\"1\" class=\"dataframe\">\n",
              "  <thead>\n",
              "    <tr style=\"text-align: right;\">\n",
              "      <th></th>\n",
              "      <th>DATE</th>\n",
              "      <th>START_DATE</th>\n",
              "      <th>DEM_STATE</th>\n",
              "    </tr>\n",
              "  </thead>\n",
              "  <tbody>\n",
              "    <tr>\n",
              "      <th>0</th>\n",
              "      <td>2019-03-27 14:16:02</td>\n",
              "      <td>2019-03-27 13:03:03</td>\n",
              "      <td>TX</td>\n",
              "    </tr>\n",
              "    <tr>\n",
              "      <th>1</th>\n",
              "      <td>2019-03-24 12:42:54</td>\n",
              "      <td>2019-03-24 12:32:17</td>\n",
              "      <td>IL</td>\n",
              "    </tr>\n",
              "    <tr>\n",
              "      <th>2</th>\n",
              "      <td>2019-03-21 08:56:26</td>\n",
              "      <td>2019-03-21 08:49:42</td>\n",
              "      <td>FL</td>\n",
              "    </tr>\n",
              "    <tr>\n",
              "      <th>3</th>\n",
              "      <td>2019-03-24 14:38:49</td>\n",
              "      <td>2019-03-24 14:19:50</td>\n",
              "      <td>CO</td>\n",
              "    </tr>\n",
              "    <tr>\n",
              "      <th>4</th>\n",
              "      <td>2019-03-24 12:26:53</td>\n",
              "      <td>2019-03-24 12:19:52</td>\n",
              "      <td>IL</td>\n",
              "    </tr>\n",
              "    <tr>\n",
              "      <th>...</th>\n",
              "      <td>...</td>\n",
              "      <td>...</td>\n",
              "      <td>...</td>\n",
              "    </tr>\n",
              "    <tr>\n",
              "      <th>29868</th>\n",
              "      <td>2019-04-04 06:46:23</td>\n",
              "      <td>2019-04-04 06:31:24</td>\n",
              "      <td>NJ</td>\n",
              "    </tr>\n",
              "    <tr>\n",
              "      <th>29869</th>\n",
              "      <td>2019-03-29 09:15:03</td>\n",
              "      <td>2019-03-29 09:07:44</td>\n",
              "      <td>MO</td>\n",
              "    </tr>\n",
              "    <tr>\n",
              "      <th>29870</th>\n",
              "      <td>2019-04-03 10:55:57</td>\n",
              "      <td>2019-04-03 10:48:05</td>\n",
              "      <td>NC</td>\n",
              "    </tr>\n",
              "    <tr>\n",
              "      <th>29871</th>\n",
              "      <td>2019-03-28 15:58:18</td>\n",
              "      <td>2019-03-28 15:52:16</td>\n",
              "      <td>CA</td>\n",
              "    </tr>\n",
              "    <tr>\n",
              "      <th>29872</th>\n",
              "      <td>2019-03-28 07:42:36</td>\n",
              "      <td>2019-03-28 06:13:15</td>\n",
              "      <td>TX</td>\n",
              "    </tr>\n",
              "  </tbody>\n",
              "</table>\n",
              "<p>29873 rows × 3 columns</p>\n",
              "</div>"
            ],
            "text/plain": [
              "                      DATE           START_DATE DEM_STATE\n",
              "0      2019-03-27 14:16:02  2019-03-27 13:03:03        TX\n",
              "1      2019-03-24 12:42:54  2019-03-24 12:32:17        IL\n",
              "2      2019-03-21 08:56:26  2019-03-21 08:49:42        FL\n",
              "3      2019-03-24 14:38:49  2019-03-24 14:19:50        CO\n",
              "4      2019-03-24 12:26:53  2019-03-24 12:19:52        IL\n",
              "...                    ...                  ...       ...\n",
              "29868  2019-04-04 06:46:23  2019-04-04 06:31:24        NJ\n",
              "29869  2019-03-29 09:15:03  2019-03-29 09:07:44        MO\n",
              "29870  2019-04-03 10:55:57  2019-04-03 10:48:05        NC\n",
              "29871  2019-03-28 15:58:18  2019-03-28 15:52:16        CA\n",
              "29872  2019-03-28 07:42:36  2019-03-28 06:13:15        TX\n",
              "\n",
              "[29873 rows x 3 columns]"
            ]
          },
          "metadata": {
            "tags": []
          },
          "execution_count": 30
        }
      ]
    },
    {
      "cell_type": "code",
      "metadata": {
        "colab": {
          "base_uri": "https://localhost:8080/"
        },
        "id": "ilLg_kKhwmeE",
        "outputId": "e8804a83-2ff7-4fe4-fbf6-f95cdf13afcd"
      },
      "source": [
        "warnings.filterwarnings('ignore')\n",
        "\n",
        "us_19mod['DATE'] = pd.to_datetime(us_19mod.loc[:, 'DATE'])\n",
        "us_19mod['START_DATE'] = pd.to_datetime(us_19mod.loc[:, 'START_DATE'])\n",
        "print(str(us_19mod.loc[:, 'DATE'].min()) + ' || ' + str(us_19mod.loc[:, 'DATE'].max()))\n",
        "print('All responses were within 2 months of each other\\n\\n')"
      ],
      "execution_count": null,
      "outputs": [
        {
          "output_type": "stream",
          "text": [
            "2019-03-11 19:30:28 || 2019-05-12 21:15:22\n",
            "All responses were within 2 months of each other\n",
            "\n",
            "\n"
          ],
          "name": "stdout"
        }
      ]
    },
    {
      "cell_type": "code",
      "metadata": {
        "colab": {
          "base_uri": "https://localhost:8080/"
        },
        "id": "NJh5mcri0UDk",
        "outputId": "63dd999b-1613-4e1d-8b07-19eda3f05dc0"
      },
      "source": [
        "us_19mod['START_DATE'].min(), us_19mod['START_DATE'].max()\n",
        "print('All responses were within 2 months of each other')"
      ],
      "execution_count": null,
      "outputs": [
        {
          "output_type": "stream",
          "text": [
            "All responses were within 2 months of each other\n"
          ],
          "name": "stdout"
        }
      ]
    },
    {
      "cell_type": "code",
      "metadata": {
        "colab": {
          "base_uri": "https://localhost:8080/",
          "height": 895
        },
        "id": "-bNWVBLewY7G",
        "outputId": "67da3b0c-c1e0-45d3-9bfb-912f3fe68ab8"
      },
      "source": [
        "us_19mod['DEM_STATE'].value_counts(ascending = True).plot(kind = 'barh', figsize=(15,15), title= 'Distribution of Responses across US States')"
      ],
      "execution_count": null,
      "outputs": [
        {
          "output_type": "execute_result",
          "data": {
            "text/plain": [
              "<matplotlib.axes._subplots.AxesSubplot at 0x7fc2b6627390>"
            ]
          },
          "metadata": {
            "tags": []
          },
          "execution_count": 33
        },
        {
          "output_type": "display_data",
          "data": {
            "image/png": "[encoded data removed]",
            "text/plain": [
              "<Figure size 1080x1080 with 1 Axes>"
            ]
          },
          "metadata": {
            "tags": [],
            "needs_background": "light"
          }
        }
      ]
    },
    {
      "cell_type": "code",
      "metadata": {
        "colab": {
          "base_uri": "https://localhost:8080/"
        },
        "id": "BpW3kRLKvwY8",
        "outputId": "ec8d92af-a611-4351-8838-1623aee12991"
      },
      "source": [
        "#NO Region values are missing\n",
        "us_19mod.DEM_REGION.isna().sum()"
      ],
      "execution_count": null,
      "outputs": [
        {
          "output_type": "execute_result",
          "data": {
            "text/plain": [
              "0"
            ]
          },
          "metadata": {
            "tags": []
          },
          "execution_count": 34
        }
      ]
    },
    {
      "cell_type": "code",
      "metadata": {
        "colab": {
          "base_uri": "https://localhost:8080/",
          "height": 607
        },
        "id": "frOWSmN0wxw4",
        "outputId": "2f3373a9-de1b-4752-e765-2f076295a1d4"
      },
      "source": [
        "us_19mod['DEM_REGION'].value_counts(ascending = True).plot(kind = 'bar', figsize=(7,7), title = 'Distribution of Responses Across Region')\n",
        "plt.xticks(range(4), labels=['Northeast', 'Midwest', 'West' ,'South'], rotation = 45)"
      ],
      "execution_count": null,
      "outputs": [
        {
          "output_type": "execute_result",
          "data": {
            "text/plain": [
              "([<matplotlib.axis.XTick at 0x7fc2b644bc90>,\n",
              "  <matplotlib.axis.XTick at 0x7fc2b6472590>,\n",
              "  <matplotlib.axis.XTick at 0x7fc2b63ff710>,\n",
              "  <matplotlib.axis.XTick at 0x7fc2b641ebd0>],\n",
              " [Text(0, 0, 'Northeast'),\n",
              "  Text(0, 0, 'Midwest'),\n",
              "  Text(0, 0, 'West'),\n",
              "  Text(0, 0, 'South')])"
            ]
          },
          "metadata": {
            "tags": []
          },
          "execution_count": 35
        },
        {
          "output_type": "display_data",
          "data": {
            "image/png": "[encoded data removed]",
            "text/plain": [
              "<Figure size 504x504 with 1 Axes>"
            ]
          },
          "metadata": {
            "tags": [],
            "needs_background": "light"
          }
        }
      ]
    },
    {
      "cell_type": "code",
      "metadata": {
        "id": "2FBj_1GAxZF1"
      },
      "source": [
        "us_19mod.drop(['DATE', 'START_DATE', 'DEM_STATE'], axis=1, inplace = True)"
      ],
      "execution_count": null,
      "outputs": []
    },
    {
      "cell_type": "code",
      "metadata": {
        "id": "NpuODRSNB1e1"
      },
      "source": [
        "#Export Data as \n",
        "us_19mod.to_csv('/content/drive/MyDrive/DataFest 2021/19_Cleaned_Data.csv')"
      ],
      "execution_count": null,
      "outputs": []
    },
    {
      "cell_type": "markdown",
      "metadata": {
        "id": "dphABMEp483f"
      },
      "source": [
        "# ISOLATE OPIOID VARIABLES AND RUN BASE REGRESSIONS"
      ]
    },
    {
      "cell_type": "code",
      "metadata": {
        "id": "Cka1tgee5Dfn"
      },
      "source": [
        "total_mod_features = us_19mod.columns.tolist()"
      ],
      "execution_count": null,
      "outputs": []
    },
    {
      "cell_type": "code",
      "metadata": {
        "colab": {
          "base_uri": "https://localhost:8080/"
        },
        "id": "qnDlskcPFm_9",
        "outputId": "b3d3a9e1-c4a3-4cff-c736-ad56a0c20323"
      },
      "source": [
        "weighted_features = [x for x in total_mod_features if x.startswith('ORDER_')]\n",
        "weightless_features = [x for x in total_mod_features if x not in weighted_features]\n",
        "\n",
        "time_features = [x for x in weightless_features if x.startswith('TIME_')]\n",
        "timeless_features = [x for x in weightless_features if x not in time_features]\n",
        "\n",
        "timeless_features"
      ],
      "execution_count": null,
      "outputs": [
        {
          "output_type": "execute_result",
          "data": {
            "text/plain": [
              "['ASP_NMU',\n",
              " 'ASP_USEYR',\n",
              " 'ACE_USEYR',\n",
              " 'ACE_NMU',\n",
              " 'IBU_USEYR',\n",
              " 'IBU_NMU',\n",
              " 'MORPH_USE',\n",
              " 'OXY_USE',\n",
              " 'METH_USE',\n",
              " 'HYDM_USE',\n",
              " 'KTM_USE',\n",
              " 'TOB_LIFE',\n",
              " 'GAB_USE',\n",
              " 'DEM_HOME',\n",
              " 'DEM_GENHEALTH',\n",
              " 'DEM_LIMIT',\n",
              " 'HYD_USE',\n",
              " 'DEM_INCOME',\n",
              " 'DEM_REGION',\n",
              " 'OXYM_USE',\n",
              " 'STATUS',\n",
              " 'QLANG',\n",
              " 'BHYD_USE',\n",
              " 'DEM_GENDER',\n",
              " 'DEM_AGE',\n",
              " 'BUP_USE',\n",
              " 'COD_USE',\n",
              " 'DIHY_USE',\n",
              " 'DEM_POSTAL',\n",
              " 'ELU_USE',\n",
              " 'FENT_USE',\n",
              " 'PREG_USE',\n",
              " 'CLOB_USE',\n",
              " 'CLOR_USE',\n",
              " 'DIA_USE',\n",
              " 'EST_USE',\n",
              " 'ESZ_USE',\n",
              " 'FLUR_USE',\n",
              " 'LORA_USE',\n",
              " 'MID_USE',\n",
              " 'OXA_USE',\n",
              " 'QUA_USE',\n",
              " 'TEM_USE',\n",
              " 'TRI_USE',\n",
              " 'ZAL_USE',\n",
              " 'ZOL_USE',\n",
              " 'AMPH_USE',\n",
              " 'ATOM_USE',\n",
              " 'MPHEN_USE',\n",
              " 'MOD_USE',\n",
              " 'CANN_USE',\n",
              " 'DRON_USE',\n",
              " 'NAB_USE',\n",
              " 'CLON_USE',\n",
              " 'SUF_USE',\n",
              " 'CHL_USE',\n",
              " 'TAP_USE',\n",
              " 'TRAM_USE',\n",
              " 'ALP_USE',\n",
              " 'BAC_USE',\n",
              " 'WT',\n",
              " 'OTH_RX_DRUG_USE',\n",
              " 'SED_USE',\n",
              " 'DAST_SUM',\n",
              " 'DAST_CAT',\n",
              " 'PAINREL_USE',\n",
              " 'PAINREL_USEYR',\n",
              " 'PAINREL_NMU',\n",
              " 'PAINREL_NMUYR',\n",
              " 'PAINREL_NMUNTY',\n",
              " 'PAINREL_NMUMNTH',\n",
              " 'PAINREL_NMUWK',\n",
              " 'SED_USEYR',\n",
              " 'STIM_NMUMNTH',\n",
              " 'SED_NMU',\n",
              " 'SED_NMUYR',\n",
              " 'SED_NMUNTY',\n",
              " 'SED_NMUMNTH',\n",
              " 'SED_NMUWK',\n",
              " 'STIM_USE',\n",
              " 'STIM_USEYR',\n",
              " 'STIM_NMU',\n",
              " 'STIM_NMUYR',\n",
              " 'DEM_AGE10',\n",
              " 'DEM_ZIP',\n",
              " 'QTIME',\n",
              " 'VMOBILEDEVICE',\n",
              " 'STIM_NMUNTY',\n",
              " 'STIM_NMUWK',\n",
              " 'ACE_USE',\n",
              " 'TAP_NMUNTY',\n",
              " 'DIHY_NMUNTY',\n",
              " 'FENT_NMUNTY',\n",
              " 'HYD_NMUNTY',\n",
              " 'HYDM_NMUNTY',\n",
              " 'METH_NMUNTY',\n",
              " 'MORPH_NMUNTY',\n",
              " 'OXY_NMUNTY',\n",
              " 'OXYM_NMUNTY',\n",
              " 'SUF_NMUNTY',\n",
              " 'TRAM_NMUNTY',\n",
              " 'THC_USE',\n",
              " 'ILLXCAN_USE',\n",
              " 'ILLXCAN_YR',\n",
              " 'ILLXCAN_NTY',\n",
              " 'ILLXCAN_MNTH',\n",
              " 'ILLXCAN_WK',\n",
              " 'ILL_USE',\n",
              " 'ILL_YR',\n",
              " 'ILL_NTY',\n",
              " 'ILL_MNTH',\n",
              " 'COD_NMUNTY',\n",
              " 'BUP_NMUNTY',\n",
              " 'BHYD_NMUNTY',\n",
              " 'GABA_NMUWK',\n",
              " 'THC_USEYR',\n",
              " 'THC_NMU',\n",
              " 'THC_NMUYR',\n",
              " 'THC_NMUNTY',\n",
              " 'THC_NMUMNTH',\n",
              " 'THC_NMUWK',\n",
              " 'OP_USE',\n",
              " 'OP_USEYR',\n",
              " 'OP_NMU',\n",
              " 'OP_NMUYR',\n",
              " 'OP_NMUNTY',\n",
              " 'OP_NMUMNTH',\n",
              " 'OP_NMUWK',\n",
              " 'GABA_USE',\n",
              " 'GABA_USEYR',\n",
              " 'GABA_NMU',\n",
              " 'GABA_NMUYR',\n",
              " 'GABA_NMUNTY',\n",
              " 'GABA_NMUMNTH',\n",
              " 'DAST_4',\n",
              " 'PCP_USE',\n",
              " 'MESC_USE',\n",
              " 'SPICE_USE',\n",
              " 'SAL_USE',\n",
              " 'STER_USE',\n",
              " 'ILL_WK',\n",
              " 'DAST_1',\n",
              " 'DAST_2',\n",
              " 'DAST_3',\n",
              " 'DAST_5',\n",
              " 'DAST_6',\n",
              " 'DAST_7',\n",
              " 'DAST_8',\n",
              " 'DAST_9',\n",
              " 'DAST_10',\n",
              " 'TRT_USEYR',\n",
              " 'PAIN_CHRONICYR',\n",
              " 'PAIN_ACUTEYR',\n",
              " 'MENT_ANYANX',\n",
              " 'MUSH_USE',\n",
              " 'LSD_USE',\n",
              " 'MEPH_USE',\n",
              " 'KET_USE',\n",
              " 'ASP_USE',\n",
              " 'DEX_USE',\n",
              " 'DIPH_USE',\n",
              " 'IBU_USE',\n",
              " 'LOP_USE',\n",
              " 'NAP_USE',\n",
              " 'OTCOTH_USE',\n",
              " 'CAN_USE',\n",
              " 'ALC_USEYR',\n",
              " 'COKE_USE',\n",
              " 'CRACK_USE',\n",
              " 'MDMA_USE',\n",
              " 'GHB_USE',\n",
              " 'ALKY_USE',\n",
              " 'KRAT_USE',\n",
              " 'SPEED_USE',\n",
              " 'METHAM_USE',\n",
              " 'NPFENT_USE',\n",
              " 'HEROIN_USE',\n",
              " 'MENT_ADHD',\n",
              " 'MENT_AUT',\n",
              " 'MENT_BIP',\n",
              " 'DEM_INSUR',\n",
              " 'DEM_HOSPSTAY',\n",
              " 'DEM_EMPLOY',\n",
              " 'MENT_BPD',\n",
              " 'DEM_HEALTH',\n",
              " 'MENT_DEP',\n",
              " 'MENT_EAT',\n",
              " 'MENT_OCD',\n",
              " 'MENT_PPD',\n",
              " 'MENT_PTSD',\n",
              " 'MENT_SCH',\n",
              " 'MENT_OTH',\n",
              " 'MENT_NONE',\n",
              " 'DEM_HISPANIC',\n",
              " 'DEM_RACE_AIAN',\n",
              " 'DEM_RACE_ASIAN',\n",
              " 'DEM_RACE_BLACK',\n",
              " 'DEM_RACE_NHPI',\n",
              " 'DEM_RACE_WHITE',\n",
              " 'DEM_RACE_OTH',\n",
              " 'DEM_MARITAL',\n",
              " 'DEM_EDU',\n",
              " 'DEM_STDNT',\n",
              " 'DEM_VET']"
            ]
          },
          "metadata": {
            "tags": []
          },
          "execution_count": 39
        }
      ]
    },
    {
      "cell_type": "markdown",
      "metadata": {
        "id": "LHewV3DKEvYB"
      },
      "source": [
        "Crafting Models:\n",
        "*   Target Var: \n",
        "        -Non Medical Opioid Abuse (OP_NMU)\n",
        "*   Explanatory Vars:\n",
        "        - Sex (DEM_GENDER)\n",
        "        - Age (DEM_AGE)\n",
        "        - Location (DEM_REGION)\n",
        "        - Education Level (DEM_EDU)\n",
        "        - Income Level (DEM_INCOME)\n",
        "        - Race?"
      ]
    },
    {
      "cell_type": "code",
      "metadata": {
        "colab": {
          "base_uri": "https://localhost:8080/"
        },
        "id": "jWvRIBfdA_Tl",
        "outputId": "438e9144-072a-4476-a967-3678d7ff58a2"
      },
      "source": [
        "us_19mod['OP_NMU'].value_counts()"
      ],
      "execution_count": null,
      "outputs": [
        {
          "output_type": "execute_result",
          "data": {
            "text/plain": [
              "0    26554\n",
              "1     3319\n",
              "Name: OP_NMU, dtype: int64"
            ]
          },
          "metadata": {
            "tags": []
          },
          "execution_count": 40
        }
      ]
    },
    {
      "cell_type": "code",
      "metadata": {
        "id": "XkCgUfg6YmUH"
      },
      "source": [
        "us_19mod['DEM_MALE'] = us_19mod['DEM_GENDER'].apply(lambda sex: 1 if sex == 1 else 0)"
      ],
      "execution_count": null,
      "outputs": []
    },
    {
      "cell_type": "code",
      "metadata": {
        "id": "fSlc-9znYl9m"
      },
      "source": [
        "us_19mod['DEM_REGION_NE'] = us_19mod['DEM_REGION'].apply(lambda reg: 1 if reg == 1 else 0)\n",
        "us_19mod['DEM_REGION_MW'] = us_19mod['DEM_REGION'].apply(lambda reg: 1 if reg == 2 else 0)\n",
        "us_19mod['DEM_REGION_S'] = us_19mod['DEM_REGION'].apply(lambda reg: 1 if reg == 3 else 0)"
      ],
      "execution_count": null,
      "outputs": []
    },
    {
      "cell_type": "code",
      "metadata": {
        "id": "vU0ziUIMURJ7"
      },
      "source": [
        "def corr_df(x, corr_val):\n",
        "    '''\n",
        "    Obj: Drops features that are strongly correlated to other features.\n",
        "          This lowers model complexity, and aids in generalizing the model.\n",
        "    Inputs:\n",
        "          df: features df (x)\n",
        "          corr_val: Columns are dropped relative to the corr_val input (e.g. 0.8)\n",
        "    Output: df that only includes uncorrelated features\n",
        "    '''\n",
        "\n",
        "    # Creates Correlation Matrix and Instantiates\n",
        "    corr_matrix = x.corr()\n",
        "    iters = range(len(corr_matrix.columns) - 1)\n",
        "    drop_cols = []\n",
        "\n",
        "    # Iterates through Correlation Matrix Table to find correlated columns\n",
        "    for i in iters:\n",
        "        for j in range(i):\n",
        "            item = corr_matrix.iloc[j:(j+1), (i+1):(i+2)]\n",
        "            col = item.columns\n",
        "            row = item.index\n",
        "            val = item.values\n",
        "            if val >= corr_val:\n",
        "                # Prints the correlated feature set and the corr val\n",
        "                print(col.values[0], \"|\", row.values[0], \"|\", round(val[0][0], 2))\n",
        "                drop_cols.append(i)\n",
        "\n",
        "    drops = sorted(set(drop_cols))[::-1]\n",
        "\n",
        "    # Drops the correlated columns\n",
        "    for i in drops:\n",
        "        col = x.iloc[:, (i+1):(i+2)].columns.values\n",
        "        df = x.drop(col, axis=1)\n",
        "\n",
        "    return df"
      ],
      "execution_count": null,
      "outputs": []
    },
    {
      "cell_type": "code",
      "metadata": {
        "colab": {
          "base_uri": "https://localhost:8080/"
        },
        "id": "TsS5J24WZN8T",
        "outputId": "e3e5636b-a637-423a-b0f4-18c328586227"
      },
      "source": [
        "corr_cols = ['PAINREL_NMUWK', 'PAINREL_NMUNTY', 'SED_NMUWK', 'SED_NMUNTY', 'STIM_USE', 'AMPH_USE', 'DEM_AGE10', 'DEM_ZIP', 'DEM_POSTAL', 'STIM_NMUNTY',\n",
        "             'STIM_NMUWK', 'CAN_USE', 'THC_NMUMNTH', 'THC_NMUWK', 'PAINREL_USE', 'PAINREL_USEYR', 'PAINREL_NMU', 'PAINREL_NMUYR', 'PAINREL_NMUNTY', \n",
        "             'PAINREL_NMUMNTH', 'PAINREL_NMUWK', 'OP_NMU']\n",
        "corrless_features = [x for x in timeless_features if x not in corr_cols]\n",
        "\n",
        "nmunty_features = [x for x in corrless_features if x.endswith('_NMUNTY')]\n",
        "corrless_features = [x for x in corrless_features if x not in nmunty_features]\n",
        "\n",
        "len(corrless_features)"
      ],
      "execution_count": null,
      "outputs": [
        {
          "output_type": "execute_result",
          "data": {
            "text/plain": [
              "167"
            ]
          },
          "metadata": {
            "tags": []
          },
          "execution_count": 44
        }
      ]
    },
    {
      "cell_type": "code",
      "metadata": {
        "id": "9rtDwq67TAz4"
      },
      "source": [
        "from sklearn.model_selection import train_test_split\n",
        "\n",
        "# MODEL 1\n",
        "# full_X = us_19mod[['DEM_GENDER', 'DEM_AGE', 'DEM_REGION', 'DEM_EDU', 'DEM_INCOME']]    \n",
        "\n",
        "# MODEL 2\n",
        "# full_X = us_19mod[['DEM_MALE', 'DEM_AGE', \n",
        "#                    'DEM_REGION_NE', 'DEM_REGION_MW', 'DEM_REGION_S', \n",
        "#                    'DEM_EDU', 'DEM_INCOME']]\n",
        "\n",
        "#MODEL 3\n",
        "# full_X = us_19mod[['DEM_MALE', 'DEM_AGE', \n",
        "#                    'DEM_REGION_NE', 'DEM_REGION_MW', 'DEM_REGION_S', \n",
        "#                    'DEM_EDU', 'DEM_INCOME',\n",
        "#                    'DEM_RACE_AIAN', 'DEM_RACE_ASIAN', 'DEM_RACE_BLACK', 'DEM_RACE_NHPI', 'DEM_RACE_WHITE']]\n",
        "\n",
        "# MODEL 4\n",
        "# full_X = us_19mod[['DEM_MALE', 'DEM_AGE', \n",
        "#                    'DEM_REGION_NE', 'DEM_REGION_MW', 'DEM_REGION_S', \n",
        "#                    'DEM_EDU', 'DEM_INCOME',\n",
        "#                    'DEM_RACE_AIAN', 'DEM_RACE_ASIAN', 'DEM_RACE_BLACK', 'DEM_RACE_NHPI', 'DEM_RACE_WHITE',\n",
        "#                    'DAST_1', 'DAST_2', 'DAST_3', 'DAST_4', 'DAST_5', 'DAST_6', 'DAST_7', 'DAST_8', 'DAST_9', 'DAST_10']]\n",
        "\n",
        "# # MODEL 5 -- Mental Health Diagnosis, includes different variations\n",
        "# ## IGNORE: 'DEM_HOSPSTAY', 'DEM_HEALTH', 'DEM_INSUR', 'MENT_ANYANX', 'MENT_OCD'\n",
        "# full_X = us_19mod[['DEM_MALE', 'DEM_AGE', \n",
        "#                    'DEM_REGION_NE', 'DEM_REGION_MW', 'DEM_REGION_S', \n",
        "#                    'DEM_EDU', 'DEM_INCOME',\n",
        "#                    'DEM_RACE_AIAN', 'DEM_RACE_ASIAN', 'DEM_RACE_BLACK', 'DEM_RACE_NHPI', 'DEM_RACE_WHITE',\n",
        "#                    'DEM_STDNT', 'DEM_VET', 'DEM_HEALTH', 'DEM_INSUR', 'DEM_HOSPSTAY', 'DEM_MARITAL',\n",
        "#                    'MENT_ANYANX', 'MENT_AUT', 'MENT_BIP', \"MENT_BPD\", 'MENT_DEP', 'MENT_EAT', 'MENT_OCD', 'MENT_PPD', 'MENT_PTSD', 'MENT_SCH', 'MENT_OTH', 'MENT_NONE']]\n",
        "\n",
        "\n",
        "# MODEL 6 -- ILLICIT drug _USE\n",
        "## TRT_ & _FIRST & _REC VARS ALL DELETED*\n",
        "## IGNORE: 'DEM_HOSPSTAY', 'DEM_HEALTH', 'DEM_INSUR', 'MENT_ANYANX', 'MENT_OCD'\n",
        "# full_X = us_19mod[['DEM_MALE', 'DEM_AGE', \n",
        "#                    'DEM_REGION_NE', 'DEM_REGION_MW', 'DEM_REGION_S', \n",
        "#                    'DEM_EDU', 'DEM_INCOME',\n",
        "#                    'DEM_RACE_AIAN', 'DEM_RACE_ASIAN', 'DEM_RACE_BLACK', 'DEM_RACE_NHPI', 'DEM_RACE_WHITE',\n",
        "#                    'DEM_STDNT', 'DEM_VET', 'DEM_HEALTH', 'DEM_INSUR', 'DEM_HOSPSTAY', 'DEM_MARITAL',\n",
        "#                    'COKE_USE', 'CRACK_USE', 'MDMA_USE', 'GHB_USE', 'ALKY_USE', 'KRAT_USE', 'SPEED_USE', 'METHAM_USE', 'NPFENT_USE', 'HEROIN_USE', 'KET_USE', 'MEPH_USE', 'LSD_USE', 'MUSH_USE', 'PCP_USE', 'MESC_USE', 'SPICE_USE', 'SAL_USE', 'STER_USE']]\n",
        "\n",
        "# MODEL 7 - Pain Reliever _USE\n",
        "# full_X = us_19mod[['DEM_MALE', 'DEM_AGE', \n",
        "#                    'DEM_REGION_NE', 'DEM_REGION_MW', 'DEM_REGION_S', \n",
        "#                    'DEM_EDU', 'DEM_INCOME',\n",
        "#                    'DEM_RACE_AIAN', 'DEM_RACE_ASIAN', 'DEM_RACE_BLACK', 'DEM_RACE_NHPI', 'DEM_RACE_WHITE',\n",
        "#                    'BHYD_USE', 'BUP_USE', 'COD_USE', 'DIHY_USE', 'ELU_USE', 'FENT_USE', 'GAB_USE', 'HYD_USE', 'HYDM_USE', 'KTM_USE', 'METH_USE', 'MORPH_USE', 'OXY_USE', 'OXYM_USE', 'PREG_USE', 'SUF_USE', 'TAP_USE', 'TRAM_USE']]\n",
        "\n",
        "# MODEL 8 - Full\n",
        "# full_X = us_19mod[corrless_features]\n",
        "\n",
        "# full_y = us_19mod.OP_NMU\n",
        "\n",
        "# X_train, X_test, y_train, y_test = train_test_split(full_X, full_y, test_size = 0.2, random_state = 42)\n",
        "# X_train, X_valid, y_train, y_valid = train_test_split(X_train, y_train, test_size = 0.25, random_state = 42)"
      ],
      "execution_count": null,
      "outputs": []
    },
    {
      "cell_type": "code",
      "metadata": {
        "id": "pMYnAIUZX9gQ"
      },
      "source": [
        "# corr_df(X_train, 0.75)\n"
      ],
      "execution_count": null,
      "outputs": []
    },
    {
      "cell_type": "code",
      "metadata": {
        "colab": {
          "base_uri": "https://localhost:8080/",
          "height": 211
        },
        "id": "p1S7kE9daYxV",
        "outputId": "98db63bb-c010-4c0b-ad61-0b63dacb565c"
      },
      "source": [
        "plt.figure(figsize = (25,25))\n",
        "sns.heatmap(full_X.corr(), annot = True, cmap = \"Blues\")\n",
        "plt.show()"
      ],
      "execution_count": null,
      "outputs": [
        {
          "output_type": "error",
          "ename": "NameError",
          "evalue": "ignored",
          "traceback": [
            "\u001b[0;31m---------------------------------------------------------------------------\u001b[0m",
            "\u001b[0;31mNameError\u001b[0m                                 Traceback (most recent call last)",
            "\u001b[0;32m<ipython-input-49-e62bfe866c69>\u001b[0m in \u001b[0;36m<module>\u001b[0;34m()\u001b[0m\n\u001b[1;32m      1\u001b[0m \u001b[0mplt\u001b[0m\u001b[0;34m.\u001b[0m\u001b[0mfigure\u001b[0m\u001b[0;34m(\u001b[0m\u001b[0mfigsize\u001b[0m \u001b[0;34m=\u001b[0m \u001b[0;34m(\u001b[0m\u001b[0;36m25\u001b[0m\u001b[0;34m,\u001b[0m\u001b[0;36m25\u001b[0m\u001b[0;34m)\u001b[0m\u001b[0;34m)\u001b[0m\u001b[0;34m\u001b[0m\u001b[0;34m\u001b[0m\u001b[0m\n\u001b[0;32m----> 2\u001b[0;31m \u001b[0msns\u001b[0m\u001b[0;34m.\u001b[0m\u001b[0mheatmap\u001b[0m\u001b[0;34m(\u001b[0m\u001b[0mfull_X\u001b[0m\u001b[0;34m.\u001b[0m\u001b[0mcorr\u001b[0m\u001b[0;34m(\u001b[0m\u001b[0;34m)\u001b[0m\u001b[0;34m,\u001b[0m \u001b[0mannot\u001b[0m \u001b[0;34m=\u001b[0m \u001b[0;32mTrue\u001b[0m\u001b[0;34m,\u001b[0m \u001b[0mcmap\u001b[0m \u001b[0;34m=\u001b[0m \u001b[0;34m\"Blues\"\u001b[0m\u001b[0;34m)\u001b[0m\u001b[0;34m\u001b[0m\u001b[0;34m\u001b[0m\u001b[0m\n\u001b[0m\u001b[1;32m      3\u001b[0m \u001b[0mplt\u001b[0m\u001b[0;34m.\u001b[0m\u001b[0mshow\u001b[0m\u001b[0;34m(\u001b[0m\u001b[0;34m)\u001b[0m\u001b[0;34m\u001b[0m\u001b[0;34m\u001b[0m\u001b[0m\n",
            "\u001b[0;31mNameError\u001b[0m: name 'full_X' is not defined"
          ]
        },
        {
          "output_type": "display_data",
          "data": {
            "text/plain": [
              "<Figure size 1800x1800 with 0 Axes>"
            ]
          },
          "metadata": {
            "tags": []
          }
        }
      ]
    },
    {
      "cell_type": "code",
      "metadata": {
        "id": "bHa2f_3rfimO"
      },
      "source": [
        "from sklearn.linear_model import LogisticRegression\n",
        "from sklearn.model_selection import GridSearchCV\n",
        "\n",
        "\n",
        "solver_list = ['liblinear', 'newton-cg', 'lbfgs', 'sag', 'saga']\n",
        "params = dict(solver=solver_list)\n",
        "log_reg = LogisticRegression(C=1, n_jobs=-1, random_state=34)\n",
        "clf = GridSearchCV(log_reg, params, cv=5)\n",
        "clf.fit(X_train, y_train)\n",
        "scores = clf.cv_results_['mean_test_score']\n",
        "\n",
        "for score, solver in zip(scores, solver_list):\n",
        "    print(f\"  {solver} {score:.3f}\" )"
      ],
      "execution_count": null,
      "outputs": []
    },
    {
      "cell_type": "code",
      "metadata": {
        "id": "IJXO4tMEfiQi"
      },
      "source": [
        "from sklearn.metrics import accuracy_score\n",
        "clf_ll = LogisticRegression(C=1, n_jobs=-1, random_state=34, solver = 'liblinear')\n",
        "clf_ng = LogisticRegression(C=1, n_jobs=-1, random_state=34, solver = 'newton-cg')\n",
        "\n",
        "clf_ll.fit(X_train, y_train)\n",
        "clf_ng.fit(X_train, y_train)\n",
        "\n",
        "ll_predictions = clf_ll.predict(X_test)\n",
        "ng_predictions = clf_ng.predict(X_test)\n",
        "\n",
        "accuracy_score(ll_predictions, y_test), accuracy_score(ng_predictions, y_test) #naturally the more features you add the more variation you're gonna be able to capture and produce a better accuracy score.\n"
      ],
      "execution_count": null,
      "outputs": []
    },
    {
      "cell_type": "code",
      "metadata": {
        "id": "K0oKJh1gjqRv"
      },
      "source": [
        "from xgboost import XGBClassifier\n",
        "\n",
        "xgbc = XGBClassifier(max_depth=8, random_state= 42)\n",
        "xgbc.fit(X_train, y_train)\n",
        "\n",
        "preds = xgbc.predict(X_test)\n",
        "\n",
        "predictions = [round(value) for value in preds]\n",
        "accuracy_score(y_test, predictions)"
      ],
      "execution_count": null,
      "outputs": []
    },
    {
      "cell_type": "code",
      "metadata": {
        "id": "URRv9eBvjpzz"
      },
      "source": [
        "pd.DataFrame(zip(X_train, xgbc.feature_importances_)).sort_values(1, ascending= False).head(10)"
      ],
      "execution_count": null,
      "outputs": []
    },
    {
      "cell_type": "code",
      "metadata": {
        "colab": {
          "base_uri": "https://localhost:8080/",
          "height": 228
        },
        "id": "Of3jvSyUDrQq",
        "outputId": "1077f80b-c4a6-4133-9b40-12e2999eca5e"
      },
      "source": [
        "import statsmodels.api as sm\n",
        "\n",
        "#adding constant to X\n",
        "X_train_with_constant = sm.add_constant(X_train)\n",
        "X_test_with_constant = sm.add_constant(X_test)\n",
        "\n",
        "# building the model and fitting the data\n",
        "sm_model_all_predictors = sm.Logit(y_train, X_train_with_constant).fit()\n",
        "\n",
        "all_predicted_test = sm_model_all_predictors.predict(X_test_with_constant)>.5\n",
        "\n",
        "# printing the summary table\n",
        "print(sm_model_all_predictors.params)\n",
        "print('-----------------------------------------------------------------')\n",
        "sm_model_all_predictors.summary()"
      ],
      "execution_count": null,
      "outputs": [
        {
          "output_type": "error",
          "ename": "NameError",
          "evalue": "ignored",
          "traceback": [
            "\u001b[0;31m---------------------------------------------------------------------------\u001b[0m",
            "\u001b[0;31mNameError\u001b[0m                                 Traceback (most recent call last)",
            "\u001b[0;32m<ipython-input-50-3a6e3100c691>\u001b[0m in \u001b[0;36m<module>\u001b[0;34m()\u001b[0m\n\u001b[1;32m      2\u001b[0m \u001b[0;34m\u001b[0m\u001b[0m\n\u001b[1;32m      3\u001b[0m \u001b[0;31m#adding constant to X\u001b[0m\u001b[0;34m\u001b[0m\u001b[0;34m\u001b[0m\u001b[0;34m\u001b[0m\u001b[0m\n\u001b[0;32m----> 4\u001b[0;31m \u001b[0mX_train_with_constant\u001b[0m \u001b[0;34m=\u001b[0m \u001b[0msm\u001b[0m\u001b[0;34m.\u001b[0m\u001b[0madd_constant\u001b[0m\u001b[0;34m(\u001b[0m\u001b[0mX_train\u001b[0m\u001b[0;34m)\u001b[0m\u001b[0;34m\u001b[0m\u001b[0;34m\u001b[0m\u001b[0m\n\u001b[0m\u001b[1;32m      5\u001b[0m \u001b[0mX_test_with_constant\u001b[0m \u001b[0;34m=\u001b[0m \u001b[0msm\u001b[0m\u001b[0;34m.\u001b[0m\u001b[0madd_constant\u001b[0m\u001b[0;34m(\u001b[0m\u001b[0mX_test\u001b[0m\u001b[0;34m)\u001b[0m\u001b[0;34m\u001b[0m\u001b[0;34m\u001b[0m\u001b[0m\n\u001b[1;32m      6\u001b[0m \u001b[0;34m\u001b[0m\u001b[0m\n",
            "\u001b[0;31mNameError\u001b[0m: name 'X_train' is not defined"
          ]
        }
      ]
    },
    {
      "cell_type": "code",
      "metadata": {
        "id": "rp9fE8vadLCi"
      },
      "source": [
        "#calculate the accuracy\n",
        "print(f\"test: {(y_test==all_predicted_test).mean()}\")"
      ],
      "execution_count": null,
      "outputs": []
    },
    {
      "cell_type": "markdown",
      "metadata": {
        "id": "kcT19l4ddMFM"
      },
      "source": [
        "## Final Model"
      ]
    },
    {
      "cell_type": "code",
      "metadata": {
        "id": "7AlkMcwW11rj"
      },
      "source": [
        "vars_to_include = ['ASP_NMU', 'ACE_NMU', 'IBU_NMU', \n",
        "                   'OXY_USE', 'HYD_USE', 'TRI_USE', 'DRON_USE', 'TRAM_USE', 'ALP_USE', 'BAC_USE', 'OTH_RX_DRUG_USE', \n",
        "                   'DEM_HOME'] \n",
        "\n",
        "base_dems = ['DEM_MALE', 'DEM_AGE', \n",
        "            'DEM_REGION_NE', 'DEM_REGION_MW', 'DEM_REGION_S', \n",
        "            'DEM_EDU', 'DEM_INCOME',\n",
        "            'DEM_RACE_AIAN', 'DEM_RACE_ASIAN', 'DEM_RACE_BLACK', 'DEM_RACE_NHPI', 'DEM_RACE_WHITE',\n",
        "            'DEM_INSUR', 'DEM_MARITAL']\n",
        "\n",
        "dast_feats = ['DAST_1', 'DAST_2', 'DAST_3', 'DAST_4', 'DAST_5', 'DAST_6', 'DAST_7', 'DAST_8', 'DAST_9', 'DAST_10']\n",
        "\n",
        "illicit_drug_use = ['COKE_USE', 'KRAT_USE', 'SPEED_USE', 'METHAM_USE', 'NPFENT_USE',  'LSD_USE']\n",
        "\n",
        "pain_reliever_use = ['BHYD_USE', 'BUP_USE', 'COD_USE', 'DIHY_USE', 'ELU_USE', 'FENT_USE', 'GAB_USE',\n",
        "                     'KTM_USE', 'METH_USE', 'MORPH_USE', 'OXYM_USE', 'SUF_USE', 'TAP_USE']\n",
        "\n",
        "FINAL_X = vars_to_include + base_dems + dast_feats + illicit_drug_use + pain_reliever_use\n",
        "\n",
        "# MODEL 8 - Full\n",
        "full_X = us_19mod[FINAL_X]\n",
        "full_y = us_19mod.OP_NMU\n",
        "\n",
        "X_train, X_test, y_train, y_test = train_test_split(full_X, full_y, test_size = 0.2, random_state = 42)\n",
        "X_train, X_valid, y_train, y_valid = train_test_split(X_train, y_train, test_size = 0.25, random_state = 42)                   "
      ],
      "execution_count": null,
      "outputs": []
    },
    {
      "cell_type": "code",
      "metadata": {
        "colab": {
          "base_uri": "https://localhost:8080/",
          "height": 367
        },
        "id": "D3Wk4-AN3Ff9",
        "outputId": "74931c8f-5aae-4f5a-a364-18d5181c87d1"
      },
      "source": [
        "sns.heatmap(full_X.corr(), cmap = \"Blues\")"
      ],
      "execution_count": null,
      "outputs": [
        {
          "output_type": "execute_result",
          "data": {
            "text/plain": [
              "<matplotlib.axes._subplots.AxesSubplot at 0x7fc2b7091c90>"
            ]
          },
          "metadata": {
            "tags": []
          },
          "execution_count": 52
        },
        {
          "output_type": "display_data",
          "data": {
            "image/png": "[encoded data removed]",
            "text/plain": [
              "<Figure size 432x288 with 2 Axes>"
            ]
          },
          "metadata": {
            "tags": [],
            "needs_background": "light"
          }
        }
      ]
    },
    {
      "cell_type": "code",
      "metadata": {
        "colab": {
          "base_uri": "https://localhost:8080/"
        },
        "id": "Qvbb_QdrAtyH",
        "outputId": "23829217-2609-4fba-eed3-e925dc4eedcb"
      },
      "source": [
        "len(us_19.columns.tolist())"
      ],
      "execution_count": null,
      "outputs": [
        {
          "output_type": "execute_result",
          "data": {
            "text/plain": [
              "523"
            ]
          },
          "metadata": {
            "tags": []
          },
          "execution_count": 53
        }
      ]
    },
    {
      "cell_type": "code",
      "metadata": {
        "colab": {
          "base_uri": "https://localhost:8080/"
        },
        "id": "qDsyFp2J7nWi",
        "outputId": "59c59a1e-f132-4621-99e3-675ad7bfccb6"
      },
      "source": [
        "len(FINAL_X)"
      ],
      "execution_count": null,
      "outputs": [
        {
          "output_type": "execute_result",
          "data": {
            "text/plain": [
              "55"
            ]
          },
          "metadata": {
            "tags": []
          },
          "execution_count": 54
        }
      ]
    },
    {
      "cell_type": "code",
      "metadata": {
        "colab": {
          "base_uri": "https://localhost:8080/",
          "height": 1000
        },
        "id": "dISKpEy173yC",
        "outputId": "1778a41e-3e76-4364-d2bf-18dacbc51482"
      },
      "source": [
        "#adding constant to X\n",
        "X_train_with_constant = sm.add_constant(X_train)\n",
        "X_test_with_constant = sm.add_constant(X_test)\n",
        "\n",
        "# building the model and fitting the data\n",
        "sm_model_all_predictors = sm.Logit(y_train, X_train_with_constant).fit()\n",
        "\n",
        "all_predicted_test = sm_model_all_predictors.predict(X_test_with_constant)>.5\n",
        "\n",
        "# printing the summary table\n",
        "print(sm_model_all_predictors.params)\n",
        "print('-----------------------------------------------------------------')\n",
        "sm_model_all_predictors.summary()"
      ],
      "execution_count": null,
      "outputs": [
        {
          "output_type": "stream",
          "text": [
            "Optimization terminated successfully.\n",
            "         Current function value: 0.217859\n",
            "         Iterations 8\n",
            "const             -0.935129\n",
            "ASP_NMU            0.550018\n",
            "ACE_NMU            0.406922\n",
            "IBU_NMU            0.542487\n",
            "OXY_USE            0.439480\n",
            "HYD_USE            0.627998\n",
            "TRI_USE            0.660792\n",
            "DRON_USE           0.559989\n",
            "TRAM_USE           0.500890\n",
            "ALP_USE            0.114339\n",
            "BAC_USE            0.154317\n",
            "OTH_RX_DRUG_USE   -1.379829\n",
            "DEM_HOME           0.018233\n",
            "DEM_MALE           0.383071\n",
            "DEM_AGE           -0.028998\n",
            "DEM_REGION_NE     -0.124787\n",
            "DEM_REGION_MW     -0.153743\n",
            "DEM_REGION_S      -0.065213\n",
            "DEM_EDU           -0.003937\n",
            "DEM_INCOME        -0.023757\n",
            "DEM_RACE_AIAN     -0.167077\n",
            "DEM_RACE_ASIAN    -0.197548\n",
            "DEM_RACE_BLACK     0.070516\n",
            "DEM_RACE_NHPI     -0.181208\n",
            "DEM_RACE_WHITE    -0.455088\n",
            "DEM_INSUR          0.119391\n",
            "DEM_MARITAL       -0.046728\n",
            "DAST_1             0.549561\n",
            "DAST_2             0.575598\n",
            "DAST_3            -0.313494\n",
            "DAST_4            -0.067310\n",
            "DAST_5             0.259204\n",
            "DAST_6             0.140391\n",
            "DAST_7             0.209524\n",
            "DAST_8             0.214314\n",
            "DAST_9             0.339840\n",
            "DAST_10           -0.505321\n",
            "COKE_USE           0.322337\n",
            "KRAT_USE           0.367041\n",
            "SPEED_USE          0.189835\n",
            "METHAM_USE         0.280526\n",
            "NPFENT_USE         0.557790\n",
            "LSD_USE            0.230394\n",
            "BHYD_USE           0.273579\n",
            "BUP_USE            0.438460\n",
            "COD_USE            1.029348\n",
            "DIHY_USE           0.216395\n",
            "ELU_USE            0.253770\n",
            "FENT_USE           0.245318\n",
            "GAB_USE           -0.313013\n",
            "KTM_USE            0.269764\n",
            "METH_USE           0.495531\n",
            "MORPH_USE          0.173201\n",
            "OXYM_USE           0.226608\n",
            "SUF_USE            0.709209\n",
            "TAP_USE            0.610032\n",
            "dtype: float64\n",
            "-----------------------------------------------------------------\n"
          ],
          "name": "stdout"
        },
        {
          "output_type": "execute_result",
          "data": {
            "text/html": [
              "<table class=\"simpletable\">\n",
              "<caption>Logit Regression Results</caption>\n",
              "<tr>\n",
              "  <th>Dep. Variable:</th>        <td>OP_NMU</td>      <th>  No. Observations:  </th>  <td> 17923</td> \n",
              "</tr>\n",
              "<tr>\n",
              "  <th>Model:</th>                 <td>Logit</td>      <th>  Df Residuals:      </th>  <td> 17867</td> \n",
              "</tr>\n",
              "<tr>\n",
              "  <th>Method:</th>                 <td>MLE</td>       <th>  Df Model:          </th>  <td>    55</td> \n",
              "</tr>\n",
              "<tr>\n",
              "  <th>Date:</th>            <td>Sun, 11 Apr 2021</td> <th>  Pseudo R-squ.:     </th>  <td>0.3686</td> \n",
              "</tr>\n",
              "<tr>\n",
              "  <th>Time:</th>                <td>20:12:13</td>     <th>  Log-Likelihood:    </th> <td> -3904.7</td>\n",
              "</tr>\n",
              "<tr>\n",
              "  <th>converged:</th>             <td>True</td>       <th>  LL-Null:           </th> <td> -6184.4</td>\n",
              "</tr>\n",
              "<tr>\n",
              "  <th>Covariance Type:</th>     <td>nonrobust</td>    <th>  LLR p-value:       </th>  <td> 0.000</td> \n",
              "</tr>\n",
              "</table>\n",
              "<table class=\"simpletable\">\n",
              "<tr>\n",
              "         <td></td>            <th>coef</th>     <th>std err</th>      <th>z</th>      <th>P>|z|</th>  <th>[0.025</th>    <th>0.975]</th>  \n",
              "</tr>\n",
              "<tr>\n",
              "  <th>const</th>           <td>   -0.9351</td> <td>    0.237</td> <td>   -3.953</td> <td> 0.000</td> <td>   -1.399</td> <td>   -0.471</td>\n",
              "</tr>\n",
              "<tr>\n",
              "  <th>ASP_NMU</th>         <td>    0.5500</td> <td>    0.104</td> <td>    5.294</td> <td> 0.000</td> <td>    0.346</td> <td>    0.754</td>\n",
              "</tr>\n",
              "<tr>\n",
              "  <th>ACE_NMU</th>         <td>    0.4069</td> <td>    0.102</td> <td>    3.972</td> <td> 0.000</td> <td>    0.206</td> <td>    0.608</td>\n",
              "</tr>\n",
              "<tr>\n",
              "  <th>IBU_NMU</th>         <td>    0.5425</td> <td>    0.094</td> <td>    5.769</td> <td> 0.000</td> <td>    0.358</td> <td>    0.727</td>\n",
              "</tr>\n",
              "<tr>\n",
              "  <th>OXY_USE</th>         <td>    0.4395</td> <td>    0.071</td> <td>    6.175</td> <td> 0.000</td> <td>    0.300</td> <td>    0.579</td>\n",
              "</tr>\n",
              "<tr>\n",
              "  <th>HYD_USE</th>         <td>    0.6280</td> <td>    0.076</td> <td>    8.297</td> <td> 0.000</td> <td>    0.480</td> <td>    0.776</td>\n",
              "</tr>\n",
              "<tr>\n",
              "  <th>TRI_USE</th>         <td>    0.6608</td> <td>    0.167</td> <td>    3.947</td> <td> 0.000</td> <td>    0.333</td> <td>    0.989</td>\n",
              "</tr>\n",
              "<tr>\n",
              "  <th>DRON_USE</th>        <td>    0.5600</td> <td>    0.193</td> <td>    2.899</td> <td> 0.004</td> <td>    0.181</td> <td>    0.939</td>\n",
              "</tr>\n",
              "<tr>\n",
              "  <th>TRAM_USE</th>        <td>    0.5009</td> <td>    0.073</td> <td>    6.849</td> <td> 0.000</td> <td>    0.358</td> <td>    0.644</td>\n",
              "</tr>\n",
              "<tr>\n",
              "  <th>ALP_USE</th>         <td>    0.1143</td> <td>    0.080</td> <td>    1.423</td> <td> 0.155</td> <td>   -0.043</td> <td>    0.272</td>\n",
              "</tr>\n",
              "<tr>\n",
              "  <th>BAC_USE</th>         <td>    0.1543</td> <td>    0.143</td> <td>    1.075</td> <td> 0.282</td> <td>   -0.127</td> <td>    0.436</td>\n",
              "</tr>\n",
              "<tr>\n",
              "  <th>OTH_RX_DRUG_USE</th> <td>   -1.3798</td> <td>    0.080</td> <td>  -17.188</td> <td> 0.000</td> <td>   -1.537</td> <td>   -1.222</td>\n",
              "</tr>\n",
              "<tr>\n",
              "  <th>DEM_HOME</th>        <td>    0.0182</td> <td>    0.015</td> <td>    1.179</td> <td> 0.239</td> <td>   -0.012</td> <td>    0.049</td>\n",
              "</tr>\n",
              "<tr>\n",
              "  <th>DEM_MALE</th>        <td>    0.3831</td> <td>    0.063</td> <td>    6.052</td> <td> 0.000</td> <td>    0.259</td> <td>    0.507</td>\n",
              "</tr>\n",
              "<tr>\n",
              "  <th>DEM_AGE</th>         <td>   -0.0290</td> <td>    0.002</td> <td>  -12.364</td> <td> 0.000</td> <td>   -0.034</td> <td>   -0.024</td>\n",
              "</tr>\n",
              "<tr>\n",
              "  <th>DEM_REGION_NE</th>   <td>   -0.1248</td> <td>    0.096</td> <td>   -1.298</td> <td> 0.194</td> <td>   -0.313</td> <td>    0.064</td>\n",
              "</tr>\n",
              "<tr>\n",
              "  <th>DEM_REGION_MW</th>   <td>   -0.1537</td> <td>    0.093</td> <td>   -1.660</td> <td> 0.097</td> <td>   -0.335</td> <td>    0.028</td>\n",
              "</tr>\n",
              "<tr>\n",
              "  <th>DEM_REGION_S</th>    <td>   -0.0652</td> <td>    0.080</td> <td>   -0.813</td> <td> 0.416</td> <td>   -0.222</td> <td>    0.092</td>\n",
              "</tr>\n",
              "<tr>\n",
              "  <th>DEM_EDU</th>         <td>   -0.0039</td> <td>    0.018</td> <td>   -0.217</td> <td> 0.828</td> <td>   -0.039</td> <td>    0.032</td>\n",
              "</tr>\n",
              "<tr>\n",
              "  <th>DEM_INCOME</th>      <td>   -0.0238</td> <td>    0.027</td> <td>   -0.884</td> <td> 0.377</td> <td>   -0.076</td> <td>    0.029</td>\n",
              "</tr>\n",
              "<tr>\n",
              "  <th>DEM_RACE_AIAN</th>   <td>   -0.1671</td> <td>    0.208</td> <td>   -0.802</td> <td> 0.423</td> <td>   -0.576</td> <td>    0.241</td>\n",
              "</tr>\n",
              "<tr>\n",
              "  <th>DEM_RACE_ASIAN</th>  <td>   -0.1975</td> <td>    0.175</td> <td>   -1.127</td> <td> 0.260</td> <td>   -0.541</td> <td>    0.146</td>\n",
              "</tr>\n",
              "<tr>\n",
              "  <th>DEM_RACE_BLACK</th>  <td>    0.0705</td> <td>    0.143</td> <td>    0.495</td> <td> 0.621</td> <td>   -0.209</td> <td>    0.350</td>\n",
              "</tr>\n",
              "<tr>\n",
              "  <th>DEM_RACE_NHPI</th>   <td>   -0.1812</td> <td>    0.398</td> <td>   -0.455</td> <td> 0.649</td> <td>   -0.961</td> <td>    0.599</td>\n",
              "</tr>\n",
              "<tr>\n",
              "  <th>DEM_RACE_WHITE</th>  <td>   -0.4551</td> <td>    0.127</td> <td>   -3.580</td> <td> 0.000</td> <td>   -0.704</td> <td>   -0.206</td>\n",
              "</tr>\n",
              "<tr>\n",
              "  <th>DEM_INSUR</th>       <td>    0.1194</td> <td>    0.069</td> <td>    1.724</td> <td> 0.085</td> <td>   -0.016</td> <td>    0.255</td>\n",
              "</tr>\n",
              "<tr>\n",
              "  <th>DEM_MARITAL</th>     <td>   -0.0467</td> <td>    0.020</td> <td>   -2.354</td> <td> 0.019</td> <td>   -0.086</td> <td>   -0.008</td>\n",
              "</tr>\n",
              "<tr>\n",
              "  <th>DAST_1</th>          <td>    0.5496</td> <td>    0.082</td> <td>    6.676</td> <td> 0.000</td> <td>    0.388</td> <td>    0.711</td>\n",
              "</tr>\n",
              "<tr>\n",
              "  <th>DAST_2</th>          <td>    0.5756</td> <td>    0.157</td> <td>    3.673</td> <td> 0.000</td> <td>    0.268</td> <td>    0.883</td>\n",
              "</tr>\n",
              "<tr>\n",
              "  <th>DAST_3</th>          <td>   -0.3135</td> <td>    0.075</td> <td>   -4.163</td> <td> 0.000</td> <td>   -0.461</td> <td>   -0.166</td>\n",
              "</tr>\n",
              "<tr>\n",
              "  <th>DAST_4</th>          <td>   -0.0673</td> <td>    0.144</td> <td>   -0.468</td> <td> 0.640</td> <td>   -0.349</td> <td>    0.215</td>\n",
              "</tr>\n",
              "<tr>\n",
              "  <th>DAST_5</th>          <td>    0.2592</td> <td>    0.096</td> <td>    2.697</td> <td> 0.007</td> <td>    0.071</td> <td>    0.448</td>\n",
              "</tr>\n",
              "<tr>\n",
              "  <th>DAST_6</th>          <td>    0.1404</td> <td>    0.156</td> <td>    0.900</td> <td> 0.368</td> <td>   -0.165</td> <td>    0.446</td>\n",
              "</tr>\n",
              "<tr>\n",
              "  <th>DAST_7</th>          <td>    0.2095</td> <td>    0.173</td> <td>    1.212</td> <td> 0.226</td> <td>   -0.129</td> <td>    0.548</td>\n",
              "</tr>\n",
              "<tr>\n",
              "  <th>DAST_8</th>          <td>    0.2143</td> <td>    0.146</td> <td>    1.467</td> <td> 0.142</td> <td>   -0.072</td> <td>    0.501</td>\n",
              "</tr>\n",
              "<tr>\n",
              "  <th>DAST_9</th>          <td>    0.3398</td> <td>    0.123</td> <td>    2.760</td> <td> 0.006</td> <td>    0.099</td> <td>    0.581</td>\n",
              "</tr>\n",
              "<tr>\n",
              "  <th>DAST_10</th>         <td>   -0.5053</td> <td>    0.188</td> <td>   -2.684</td> <td> 0.007</td> <td>   -0.874</td> <td>   -0.136</td>\n",
              "</tr>\n",
              "<tr>\n",
              "  <th>COKE_USE</th>        <td>    0.3223</td> <td>    0.101</td> <td>    3.194</td> <td> 0.001</td> <td>    0.125</td> <td>    0.520</td>\n",
              "</tr>\n",
              "<tr>\n",
              "  <th>KRAT_USE</th>        <td>    0.3670</td> <td>    0.191</td> <td>    1.924</td> <td> 0.054</td> <td>   -0.007</td> <td>    0.741</td>\n",
              "</tr>\n",
              "<tr>\n",
              "  <th>SPEED_USE</th>       <td>    0.1898</td> <td>    0.127</td> <td>    1.490</td> <td> 0.136</td> <td>   -0.060</td> <td>    0.440</td>\n",
              "</tr>\n",
              "<tr>\n",
              "  <th>METHAM_USE</th>      <td>    0.2805</td> <td>    0.120</td> <td>    2.337</td> <td> 0.019</td> <td>    0.045</td> <td>    0.516</td>\n",
              "</tr>\n",
              "<tr>\n",
              "  <th>NPFENT_USE</th>      <td>    0.5578</td> <td>    0.316</td> <td>    1.764</td> <td> 0.078</td> <td>   -0.062</td> <td>    1.177</td>\n",
              "</tr>\n",
              "<tr>\n",
              "  <th>LSD_USE</th>         <td>    0.2304</td> <td>    0.106</td> <td>    2.183</td> <td> 0.029</td> <td>    0.024</td> <td>    0.437</td>\n",
              "</tr>\n",
              "<tr>\n",
              "  <th>BHYD_USE</th>        <td>    0.2736</td> <td>    0.161</td> <td>    1.695</td> <td> 0.090</td> <td>   -0.043</td> <td>    0.590</td>\n",
              "</tr>\n",
              "<tr>\n",
              "  <th>BUP_USE</th>         <td>    0.4385</td> <td>    0.141</td> <td>    3.106</td> <td> 0.002</td> <td>    0.162</td> <td>    0.715</td>\n",
              "</tr>\n",
              "<tr>\n",
              "  <th>COD_USE</th>         <td>    1.0293</td> <td>    0.073</td> <td>   14.026</td> <td> 0.000</td> <td>    0.886</td> <td>    1.173</td>\n",
              "</tr>\n",
              "<tr>\n",
              "  <th>DIHY_USE</th>        <td>    0.2164</td> <td>    0.176</td> <td>    1.230</td> <td> 0.219</td> <td>   -0.129</td> <td>    0.561</td>\n",
              "</tr>\n",
              "<tr>\n",
              "  <th>ELU_USE</th>         <td>    0.2538</td> <td>    0.282</td> <td>    0.901</td> <td> 0.368</td> <td>   -0.298</td> <td>    0.806</td>\n",
              "</tr>\n",
              "<tr>\n",
              "  <th>FENT_USE</th>        <td>    0.2453</td> <td>    0.111</td> <td>    2.211</td> <td> 0.027</td> <td>    0.028</td> <td>    0.463</td>\n",
              "</tr>\n",
              "<tr>\n",
              "  <th>GAB_USE</th>         <td>   -0.3130</td> <td>    0.090</td> <td>   -3.484</td> <td> 0.000</td> <td>   -0.489</td> <td>   -0.137</td>\n",
              "</tr>\n",
              "<tr>\n",
              "  <th>KTM_USE</th>         <td>    0.2698</td> <td>    0.157</td> <td>    1.716</td> <td> 0.086</td> <td>   -0.038</td> <td>    0.578</td>\n",
              "</tr>\n",
              "<tr>\n",
              "  <th>METH_USE</th>        <td>    0.4955</td> <td>    0.126</td> <td>    3.944</td> <td> 0.000</td> <td>    0.249</td> <td>    0.742</td>\n",
              "</tr>\n",
              "<tr>\n",
              "  <th>MORPH_USE</th>       <td>    0.1732</td> <td>    0.073</td> <td>    2.365</td> <td> 0.018</td> <td>    0.030</td> <td>    0.317</td>\n",
              "</tr>\n",
              "<tr>\n",
              "  <th>OXYM_USE</th>        <td>    0.2266</td> <td>    0.136</td> <td>    1.668</td> <td> 0.095</td> <td>   -0.040</td> <td>    0.493</td>\n",
              "</tr>\n",
              "<tr>\n",
              "  <th>SUF_USE</th>         <td>    0.7092</td> <td>    0.208</td> <td>    3.409</td> <td> 0.001</td> <td>    0.301</td> <td>    1.117</td>\n",
              "</tr>\n",
              "<tr>\n",
              "  <th>TAP_USE</th>         <td>    0.6100</td> <td>    0.203</td> <td>    3.008</td> <td> 0.003</td> <td>    0.213</td> <td>    1.008</td>\n",
              "</tr>\n",
              "</table>"
            ],
            "text/plain": [
              "<class 'statsmodels.iolib.summary.Summary'>\n",
              "\"\"\"\n",
              "                           Logit Regression Results                           \n",
              "==============================================================================\n",
              "Dep. Variable:                 OP_NMU   No. Observations:                17923\n",
              "Model:                          Logit   Df Residuals:                    17867\n",
              "Method:                           MLE   Df Model:                           55\n",
              "Date:                Sun, 11 Apr 2021   Pseudo R-squ.:                  0.3686\n",
              "Time:                        20:12:13   Log-Likelihood:                -3904.7\n",
              "converged:                       True   LL-Null:                       -6184.4\n",
              "Covariance Type:            nonrobust   LLR p-value:                     0.000\n",
              "===================================================================================\n",
              "                      coef    std err          z      P>|z|      [0.025      0.975]\n",
              "-----------------------------------------------------------------------------------\n",
              "const              -0.9351      0.237     -3.953      0.000      -1.399      -0.471\n",
              "ASP_NMU             0.5500      0.104      5.294      0.000       0.346       0.754\n",
              "ACE_NMU             0.4069      0.102      3.972      0.000       0.206       0.608\n",
              "IBU_NMU             0.5425      0.094      5.769      0.000       0.358       0.727\n",
              "OXY_USE             0.4395      0.071      6.175      0.000       0.300       0.579\n",
              "HYD_USE             0.6280      0.076      8.297      0.000       0.480       0.776\n",
              "TRI_USE             0.6608      0.167      3.947      0.000       0.333       0.989\n",
              "DRON_USE            0.5600      0.193      2.899      0.004       0.181       0.939\n",
              "TRAM_USE            0.5009      0.073      6.849      0.000       0.358       0.644\n",
              "ALP_USE             0.1143      0.080      1.423      0.155      -0.043       0.272\n",
              "BAC_USE             0.1543      0.143      1.075      0.282      -0.127       0.436\n",
              "OTH_RX_DRUG_USE    -1.3798      0.080    -17.188      0.000      -1.537      -1.222\n",
              "DEM_HOME            0.0182      0.015      1.179      0.239      -0.012       0.049\n",
              "DEM_MALE            0.3831      0.063      6.052      0.000       0.259       0.507\n",
              "DEM_AGE            -0.0290      0.002    -12.364      0.000      -0.034      -0.024\n",
              "DEM_REGION_NE      -0.1248      0.096     -1.298      0.194      -0.313       0.064\n",
              "DEM_REGION_MW      -0.1537      0.093     -1.660      0.097      -0.335       0.028\n",
              "DEM_REGION_S       -0.0652      0.080     -0.813      0.416      -0.222       0.092\n",
              "DEM_EDU            -0.0039      0.018     -0.217      0.828      -0.039       0.032\n",
              "DEM_INCOME         -0.0238      0.027     -0.884      0.377      -0.076       0.029\n",
              "DEM_RACE_AIAN      -0.1671      0.208     -0.802      0.423      -0.576       0.241\n",
              "DEM_RACE_ASIAN     -0.1975      0.175     -1.127      0.260      -0.541       0.146\n",
              "DEM_RACE_BLACK      0.0705      0.143      0.495      0.621      -0.209       0.350\n",
              "DEM_RACE_NHPI      -0.1812      0.398     -0.455      0.649      -0.961       0.599\n",
              "DEM_RACE_WHITE     -0.4551      0.127     -3.580      0.000      -0.704      -0.206\n",
              "DEM_INSUR           0.1194      0.069      1.724      0.085      -0.016       0.255\n",
              "DEM_MARITAL        -0.0467      0.020     -2.354      0.019      -0.086      -0.008\n",
              "DAST_1              0.5496      0.082      6.676      0.000       0.388       0.711\n",
              "DAST_2              0.5756      0.157      3.673      0.000       0.268       0.883\n",
              "DAST_3             -0.3135      0.075     -4.163      0.000      -0.461      -0.166\n",
              "DAST_4             -0.0673      0.144     -0.468      0.640      -0.349       0.215\n",
              "DAST_5              0.2592      0.096      2.697      0.007       0.071       0.448\n",
              "DAST_6              0.1404      0.156      0.900      0.368      -0.165       0.446\n",
              "DAST_7              0.2095      0.173      1.212      0.226      -0.129       0.548\n",
              "DAST_8              0.2143      0.146      1.467      0.142      -0.072       0.501\n",
              "DAST_9              0.3398      0.123      2.760      0.006       0.099       0.581\n",
              "DAST_10            -0.5053      0.188     -2.684      0.007      -0.874      -0.136\n",
              "COKE_USE            0.3223      0.101      3.194      0.001       0.125       0.520\n",
              "KRAT_USE            0.3670      0.191      1.924      0.054      -0.007       0.741\n",
              "SPEED_USE           0.1898      0.127      1.490      0.136      -0.060       0.440\n",
              "METHAM_USE          0.2805      0.120      2.337      0.019       0.045       0.516\n",
              "NPFENT_USE          0.5578      0.316      1.764      0.078      -0.062       1.177\n",
              "LSD_USE             0.2304      0.106      2.183      0.029       0.024       0.437\n",
              "BHYD_USE            0.2736      0.161      1.695      0.090      -0.043       0.590\n",
              "BUP_USE             0.4385      0.141      3.106      0.002       0.162       0.715\n",
              "COD_USE             1.0293      0.073     14.026      0.000       0.886       1.173\n",
              "DIHY_USE            0.2164      0.176      1.230      0.219      -0.129       0.561\n",
              "ELU_USE             0.2538      0.282      0.901      0.368      -0.298       0.806\n",
              "FENT_USE            0.2453      0.111      2.211      0.027       0.028       0.463\n",
              "GAB_USE            -0.3130      0.090     -3.484      0.000      -0.489      -0.137\n",
              "KTM_USE             0.2698      0.157      1.716      0.086      -0.038       0.578\n",
              "METH_USE            0.4955      0.126      3.944      0.000       0.249       0.742\n",
              "MORPH_USE           0.1732      0.073      2.365      0.018       0.030       0.317\n",
              "OXYM_USE            0.2266      0.136      1.668      0.095      -0.040       0.493\n",
              "SUF_USE             0.7092      0.208      3.409      0.001       0.301       1.117\n",
              "TAP_USE             0.6100      0.203      3.008      0.003       0.213       1.008\n",
              "===================================================================================\n",
              "\"\"\""
            ]
          },
          "metadata": {
            "tags": []
          },
          "execution_count": 55
        }
      ]
    },
    {
      "cell_type": "code",
      "metadata": {
        "colab": {
          "base_uri": "https://localhost:8080/"
        },
        "id": "bbDKJNMh8hLn",
        "outputId": "4c1c4418-8b1a-4afc-ecc2-ee8c52dced62"
      },
      "source": [
        "print(f\"test: {(y_test==all_predicted_test).mean()}\")"
      ],
      "execution_count": null,
      "outputs": [
        {
          "output_type": "stream",
          "text": [
            "test: 0.9089539748953975\n"
          ],
          "name": "stdout"
        }
      ]
    },
    {
      "cell_type": "code",
      "metadata": {
        "id": "ibLKUdvZ8wCv"
      },
      "source": [
        "(us_19.QTIME.mean() *57 )/ 523\n",
        "print('Survey length can go from 15 minutes to 2 minutes')"
      ],
      "execution_count": null,
      "outputs": []
    },
    {
      "cell_type": "code",
      "metadata": {
        "id": "YOsJ9TvHHY4s"
      },
      "source": [
        "(13/15)*100"
      ],
      "execution_count": null,
      "outputs": []
    },
    {
      "cell_type": "code",
      "metadata": {
        "id": "z7BDdB-QIkFZ"
      },
      "source": [
        ""
      ],
      "execution_count": null,
      "outputs": []
    }
  ]
}